{
  "nbformat": 4,
  "nbformat_minor": 0,
  "metadata": {
    "colab": {
      "name": "ML II Final Project.ipynb",
      "provenance": [],
      "authorship_tag": "ABX9TyOPK3fnd3+df1NQb/O2DqP0",
      "include_colab_link": true
    },
    "kernelspec": {
      "name": "python3",
      "display_name": "Python 3"
    },
    "language_info": {
      "name": "python"
    }
  },
  "cells": [
    {
      "cell_type": "markdown",
      "metadata": {
        "id": "view-in-github",
        "colab_type": "text"
      },
      "source": [
        "<a href=\"https://colab.research.google.com/github/SafaaFathii/CreditCard-DataScience-Project/blob/main/notebooks/ML_II_Final_Project.ipynb\" target=\"_parent\"><img src=\"https://colab.research.google.com/assets/colab-badge.svg\" alt=\"Open In Colab\"/></a>"
      ]
    },
    {
      "cell_type": "code",
      "execution_count": 564,
      "metadata": {
        "id": "I_0EmayiDXvM"
      },
      "outputs": [],
      "source": [
        "import pandas as pd\n",
        "import numpy as np\n",
        "import matplotlib.pyplot as plt\n",
        "import pandas as pd\n",
        "import matplotlib.pyplot as plt\n",
        "import plotly.express as px\n",
        "from sklearn.cluster import KMeans\n",
        "from sklearn.cluster import DBSCAN\n",
        "from sklearn import metrics\n",
        "from scipy.spatial.distance import cdist\n",
        "from sklearn.manifold import TSNE\n",
        "from sklearn.cluster import AgglomerativeClustering\n",
        "from sklearn.metrics import silhouette_score\n",
        "import matplotlib.pyplot as plt\n",
        " \n",
        "from sklearn.preprocessing import StandardScaler\n",
        "from sklearn.decomposition import PCA, KernelPCA\n",
        "from sklearn.preprocessing import QuantileTransformer\n",
        "\n",
        "from sklearn.utils import extmath\n",
        "import seaborn as sns\n",
        "sns.set()"
      ]
    },
    {
      "cell_type": "code",
      "source": [
        "DATA_PATH = \"https://raw.githubusercontent.com/SafaaFathii/CreditCard-DataScience-Project/main/src/data/CC%20GENERAL.csv\""
      ],
      "metadata": {
        "id": "x0sMgDqUD12r"
      },
      "execution_count": 565,
      "outputs": []
    },
    {
      "cell_type": "code",
      "source": [
        "df = pd.read_csv(DATA_PATH)\n",
        "df.drop(['CUST_ID'], axis=1, inplace=True)\n",
        "df.head()"
      ],
      "metadata": {
        "colab": {
          "base_uri": "https://localhost:8080/",
          "height": 270
        },
        "id": "CO1xf26XHeag",
        "outputId": "fcc66929-15bd-43b7-8278-c46d6642aff5"
      },
      "execution_count": 566,
      "outputs": [
        {
          "output_type": "execute_result",
          "data": {
            "text/plain": [
              "       BALANCE  BALANCE_FREQUENCY  PURCHASES  ONEOFF_PURCHASES  \\\n",
              "0    40.900749           0.818182      95.40              0.00   \n",
              "1  3202.467416           0.909091       0.00              0.00   \n",
              "2  2495.148862           1.000000     773.17            773.17   \n",
              "3  1666.670542           0.636364    1499.00           1499.00   \n",
              "4   817.714335           1.000000      16.00             16.00   \n",
              "\n",
              "   INSTALLMENTS_PURCHASES  CASH_ADVANCE  PURCHASES_FREQUENCY  \\\n",
              "0                    95.4      0.000000             0.166667   \n",
              "1                     0.0   6442.945483             0.000000   \n",
              "2                     0.0      0.000000             1.000000   \n",
              "3                     0.0    205.788017             0.083333   \n",
              "4                     0.0      0.000000             0.083333   \n",
              "\n",
              "   ONEOFF_PURCHASES_FREQUENCY  PURCHASES_INSTALLMENTS_FREQUENCY  \\\n",
              "0                    0.000000                          0.083333   \n",
              "1                    0.000000                          0.000000   \n",
              "2                    1.000000                          0.000000   \n",
              "3                    0.083333                          0.000000   \n",
              "4                    0.083333                          0.000000   \n",
              "\n",
              "   CASH_ADVANCE_FREQUENCY  CASH_ADVANCE_TRX  PURCHASES_TRX  CREDIT_LIMIT  \\\n",
              "0                0.000000                 0              2        1000.0   \n",
              "1                0.250000                 4              0        7000.0   \n",
              "2                0.000000                 0             12        7500.0   \n",
              "3                0.083333                 1              1        7500.0   \n",
              "4                0.000000                 0              1        1200.0   \n",
              "\n",
              "      PAYMENTS  MINIMUM_PAYMENTS  PRC_FULL_PAYMENT  TENURE  \n",
              "0   201.802084        139.509787          0.000000      12  \n",
              "1  4103.032597       1072.340217          0.222222      12  \n",
              "2   622.066742        627.284787          0.000000      12  \n",
              "3     0.000000               NaN          0.000000      12  \n",
              "4   678.334763        244.791237          0.000000      12  "
            ],
            "text/html": [
              "\n",
              "  <div id=\"df-92a4c967-0563-4463-b15c-ca26cae56567\">\n",
              "    <div class=\"colab-df-container\">\n",
              "      <div>\n",
              "<style scoped>\n",
              "    .dataframe tbody tr th:only-of-type {\n",
              "        vertical-align: middle;\n",
              "    }\n",
              "\n",
              "    .dataframe tbody tr th {\n",
              "        vertical-align: top;\n",
              "    }\n",
              "\n",
              "    .dataframe thead th {\n",
              "        text-align: right;\n",
              "    }\n",
              "</style>\n",
              "<table border=\"1\" class=\"dataframe\">\n",
              "  <thead>\n",
              "    <tr style=\"text-align: right;\">\n",
              "      <th></th>\n",
              "      <th>BALANCE</th>\n",
              "      <th>BALANCE_FREQUENCY</th>\n",
              "      <th>PURCHASES</th>\n",
              "      <th>ONEOFF_PURCHASES</th>\n",
              "      <th>INSTALLMENTS_PURCHASES</th>\n",
              "      <th>CASH_ADVANCE</th>\n",
              "      <th>PURCHASES_FREQUENCY</th>\n",
              "      <th>ONEOFF_PURCHASES_FREQUENCY</th>\n",
              "      <th>PURCHASES_INSTALLMENTS_FREQUENCY</th>\n",
              "      <th>CASH_ADVANCE_FREQUENCY</th>\n",
              "      <th>CASH_ADVANCE_TRX</th>\n",
              "      <th>PURCHASES_TRX</th>\n",
              "      <th>CREDIT_LIMIT</th>\n",
              "      <th>PAYMENTS</th>\n",
              "      <th>MINIMUM_PAYMENTS</th>\n",
              "      <th>PRC_FULL_PAYMENT</th>\n",
              "      <th>TENURE</th>\n",
              "    </tr>\n",
              "  </thead>\n",
              "  <tbody>\n",
              "    <tr>\n",
              "      <th>0</th>\n",
              "      <td>40.900749</td>\n",
              "      <td>0.818182</td>\n",
              "      <td>95.40</td>\n",
              "      <td>0.00</td>\n",
              "      <td>95.4</td>\n",
              "      <td>0.000000</td>\n",
              "      <td>0.166667</td>\n",
              "      <td>0.000000</td>\n",
              "      <td>0.083333</td>\n",
              "      <td>0.000000</td>\n",
              "      <td>0</td>\n",
              "      <td>2</td>\n",
              "      <td>1000.0</td>\n",
              "      <td>201.802084</td>\n",
              "      <td>139.509787</td>\n",
              "      <td>0.000000</td>\n",
              "      <td>12</td>\n",
              "    </tr>\n",
              "    <tr>\n",
              "      <th>1</th>\n",
              "      <td>3202.467416</td>\n",
              "      <td>0.909091</td>\n",
              "      <td>0.00</td>\n",
              "      <td>0.00</td>\n",
              "      <td>0.0</td>\n",
              "      <td>6442.945483</td>\n",
              "      <td>0.000000</td>\n",
              "      <td>0.000000</td>\n",
              "      <td>0.000000</td>\n",
              "      <td>0.250000</td>\n",
              "      <td>4</td>\n",
              "      <td>0</td>\n",
              "      <td>7000.0</td>\n",
              "      <td>4103.032597</td>\n",
              "      <td>1072.340217</td>\n",
              "      <td>0.222222</td>\n",
              "      <td>12</td>\n",
              "    </tr>\n",
              "    <tr>\n",
              "      <th>2</th>\n",
              "      <td>2495.148862</td>\n",
              "      <td>1.000000</td>\n",
              "      <td>773.17</td>\n",
              "      <td>773.17</td>\n",
              "      <td>0.0</td>\n",
              "      <td>0.000000</td>\n",
              "      <td>1.000000</td>\n",
              "      <td>1.000000</td>\n",
              "      <td>0.000000</td>\n",
              "      <td>0.000000</td>\n",
              "      <td>0</td>\n",
              "      <td>12</td>\n",
              "      <td>7500.0</td>\n",
              "      <td>622.066742</td>\n",
              "      <td>627.284787</td>\n",
              "      <td>0.000000</td>\n",
              "      <td>12</td>\n",
              "    </tr>\n",
              "    <tr>\n",
              "      <th>3</th>\n",
              "      <td>1666.670542</td>\n",
              "      <td>0.636364</td>\n",
              "      <td>1499.00</td>\n",
              "      <td>1499.00</td>\n",
              "      <td>0.0</td>\n",
              "      <td>205.788017</td>\n",
              "      <td>0.083333</td>\n",
              "      <td>0.083333</td>\n",
              "      <td>0.000000</td>\n",
              "      <td>0.083333</td>\n",
              "      <td>1</td>\n",
              "      <td>1</td>\n",
              "      <td>7500.0</td>\n",
              "      <td>0.000000</td>\n",
              "      <td>NaN</td>\n",
              "      <td>0.000000</td>\n",
              "      <td>12</td>\n",
              "    </tr>\n",
              "    <tr>\n",
              "      <th>4</th>\n",
              "      <td>817.714335</td>\n",
              "      <td>1.000000</td>\n",
              "      <td>16.00</td>\n",
              "      <td>16.00</td>\n",
              "      <td>0.0</td>\n",
              "      <td>0.000000</td>\n",
              "      <td>0.083333</td>\n",
              "      <td>0.083333</td>\n",
              "      <td>0.000000</td>\n",
              "      <td>0.000000</td>\n",
              "      <td>0</td>\n",
              "      <td>1</td>\n",
              "      <td>1200.0</td>\n",
              "      <td>678.334763</td>\n",
              "      <td>244.791237</td>\n",
              "      <td>0.000000</td>\n",
              "      <td>12</td>\n",
              "    </tr>\n",
              "  </tbody>\n",
              "</table>\n",
              "</div>\n",
              "      <button class=\"colab-df-convert\" onclick=\"convertToInteractive('df-92a4c967-0563-4463-b15c-ca26cae56567')\"\n",
              "              title=\"Convert this dataframe to an interactive table.\"\n",
              "              style=\"display:none;\">\n",
              "        \n",
              "  <svg xmlns=\"http://www.w3.org/2000/svg\" height=\"24px\"viewBox=\"0 0 24 24\"\n",
              "       width=\"24px\">\n",
              "    <path d=\"M0 0h24v24H0V0z\" fill=\"none\"/>\n",
              "    <path d=\"M18.56 5.44l.94 2.06.94-2.06 2.06-.94-2.06-.94-.94-2.06-.94 2.06-2.06.94zm-11 1L8.5 8.5l.94-2.06 2.06-.94-2.06-.94L8.5 2.5l-.94 2.06-2.06.94zm10 10l.94 2.06.94-2.06 2.06-.94-2.06-.94-.94-2.06-.94 2.06-2.06.94z\"/><path d=\"M17.41 7.96l-1.37-1.37c-.4-.4-.92-.59-1.43-.59-.52 0-1.04.2-1.43.59L10.3 9.45l-7.72 7.72c-.78.78-.78 2.05 0 2.83L4 21.41c.39.39.9.59 1.41.59.51 0 1.02-.2 1.41-.59l7.78-7.78 2.81-2.81c.8-.78.8-2.07 0-2.86zM5.41 20L4 18.59l7.72-7.72 1.47 1.35L5.41 20z\"/>\n",
              "  </svg>\n",
              "      </button>\n",
              "      \n",
              "  <style>\n",
              "    .colab-df-container {\n",
              "      display:flex;\n",
              "      flex-wrap:wrap;\n",
              "      gap: 12px;\n",
              "    }\n",
              "\n",
              "    .colab-df-convert {\n",
              "      background-color: #E8F0FE;\n",
              "      border: none;\n",
              "      border-radius: 50%;\n",
              "      cursor: pointer;\n",
              "      display: none;\n",
              "      fill: #1967D2;\n",
              "      height: 32px;\n",
              "      padding: 0 0 0 0;\n",
              "      width: 32px;\n",
              "    }\n",
              "\n",
              "    .colab-df-convert:hover {\n",
              "      background-color: #E2EBFA;\n",
              "      box-shadow: 0px 1px 2px rgba(60, 64, 67, 0.3), 0px 1px 3px 1px rgba(60, 64, 67, 0.15);\n",
              "      fill: #174EA6;\n",
              "    }\n",
              "\n",
              "    [theme=dark] .colab-df-convert {\n",
              "      background-color: #3B4455;\n",
              "      fill: #D2E3FC;\n",
              "    }\n",
              "\n",
              "    [theme=dark] .colab-df-convert:hover {\n",
              "      background-color: #434B5C;\n",
              "      box-shadow: 0px 1px 3px 1px rgba(0, 0, 0, 0.15);\n",
              "      filter: drop-shadow(0px 1px 2px rgba(0, 0, 0, 0.3));\n",
              "      fill: #FFFFFF;\n",
              "    }\n",
              "  </style>\n",
              "\n",
              "      <script>\n",
              "        const buttonEl =\n",
              "          document.querySelector('#df-92a4c967-0563-4463-b15c-ca26cae56567 button.colab-df-convert');\n",
              "        buttonEl.style.display =\n",
              "          google.colab.kernel.accessAllowed ? 'block' : 'none';\n",
              "\n",
              "        async function convertToInteractive(key) {\n",
              "          const element = document.querySelector('#df-92a4c967-0563-4463-b15c-ca26cae56567');\n",
              "          const dataTable =\n",
              "            await google.colab.kernel.invokeFunction('convertToInteractive',\n",
              "                                                     [key], {});\n",
              "          if (!dataTable) return;\n",
              "\n",
              "          const docLinkHtml = 'Like what you see? Visit the ' +\n",
              "            '<a target=\"_blank\" href=https://colab.research.google.com/notebooks/data_table.ipynb>data table notebook</a>'\n",
              "            + ' to learn more about interactive tables.';\n",
              "          element.innerHTML = '';\n",
              "          dataTable['output_type'] = 'display_data';\n",
              "          await google.colab.output.renderOutput(dataTable, element);\n",
              "          const docLink = document.createElement('div');\n",
              "          docLink.innerHTML = docLinkHtml;\n",
              "          element.appendChild(docLink);\n",
              "        }\n",
              "      </script>\n",
              "    </div>\n",
              "  </div>\n",
              "  "
            ]
          },
          "metadata": {},
          "execution_count": 566
        }
      ]
    },
    {
      "cell_type": "markdown",
      "source": [
        "\n",
        "\n",
        "---\n",
        "\n",
        "\n",
        "\n",
        "---\n",
        "\n"
      ],
      "metadata": {
        "id": "qAMkzHuEJc8L"
      }
    },
    {
      "cell_type": "markdown",
      "source": [
        "# Data Exploration\n",
        "\n"
      ],
      "metadata": {
        "id": "SgleMNBZJO4S"
      }
    },
    {
      "cell_type": "code",
      "source": [
        "df.shape"
      ],
      "metadata": {
        "colab": {
          "base_uri": "https://localhost:8080/"
        },
        "id": "tjJMpUv1Hqlx",
        "outputId": "5431c68b-8fa5-42a4-9b82-48192ac23ab5"
      },
      "execution_count": 567,
      "outputs": [
        {
          "output_type": "execute_result",
          "data": {
            "text/plain": [
              "(8950, 17)"
            ]
          },
          "metadata": {},
          "execution_count": 567
        }
      ]
    },
    {
      "cell_type": "code",
      "source": [
        "df.describe()"
      ],
      "metadata": {
        "colab": {
          "base_uri": "https://localhost:8080/",
          "height": 364
        },
        "id": "Y9hMC9cdILEn",
        "outputId": "34dbf1ae-4407-47c6-83a1-4f219f227257"
      },
      "execution_count": 568,
      "outputs": [
        {
          "output_type": "execute_result",
          "data": {
            "text/plain": [
              "            BALANCE  BALANCE_FREQUENCY     PURCHASES  ONEOFF_PURCHASES  \\\n",
              "count   8950.000000        8950.000000   8950.000000       8950.000000   \n",
              "mean    1564.474828           0.877271   1003.204834        592.437371   \n",
              "std     2081.531879           0.236904   2136.634782       1659.887917   \n",
              "min        0.000000           0.000000      0.000000          0.000000   \n",
              "25%      128.281915           0.888889     39.635000          0.000000   \n",
              "50%      873.385231           1.000000    361.280000         38.000000   \n",
              "75%     2054.140036           1.000000   1110.130000        577.405000   \n",
              "max    19043.138560           1.000000  49039.570000      40761.250000   \n",
              "\n",
              "       INSTALLMENTS_PURCHASES  CASH_ADVANCE  PURCHASES_FREQUENCY  \\\n",
              "count             8950.000000   8950.000000          8950.000000   \n",
              "mean               411.067645    978.871112             0.490351   \n",
              "std                904.338115   2097.163877             0.401371   \n",
              "min                  0.000000      0.000000             0.000000   \n",
              "25%                  0.000000      0.000000             0.083333   \n",
              "50%                 89.000000      0.000000             0.500000   \n",
              "75%                468.637500   1113.821139             0.916667   \n",
              "max              22500.000000  47137.211760             1.000000   \n",
              "\n",
              "       ONEOFF_PURCHASES_FREQUENCY  PURCHASES_INSTALLMENTS_FREQUENCY  \\\n",
              "count                 8950.000000                       8950.000000   \n",
              "mean                     0.202458                          0.364437   \n",
              "std                      0.298336                          0.397448   \n",
              "min                      0.000000                          0.000000   \n",
              "25%                      0.000000                          0.000000   \n",
              "50%                      0.083333                          0.166667   \n",
              "75%                      0.300000                          0.750000   \n",
              "max                      1.000000                          1.000000   \n",
              "\n",
              "       CASH_ADVANCE_FREQUENCY  CASH_ADVANCE_TRX  PURCHASES_TRX  CREDIT_LIMIT  \\\n",
              "count             8950.000000       8950.000000    8950.000000   8949.000000   \n",
              "mean                 0.135144          3.248827      14.709832   4494.449450   \n",
              "std                  0.200121          6.824647      24.857649   3638.815725   \n",
              "min                  0.000000          0.000000       0.000000     50.000000   \n",
              "25%                  0.000000          0.000000       1.000000   1600.000000   \n",
              "50%                  0.000000          0.000000       7.000000   3000.000000   \n",
              "75%                  0.222222          4.000000      17.000000   6500.000000   \n",
              "max                  1.500000        123.000000     358.000000  30000.000000   \n",
              "\n",
              "           PAYMENTS  MINIMUM_PAYMENTS  PRC_FULL_PAYMENT       TENURE  \n",
              "count   8950.000000       8637.000000       8950.000000  8950.000000  \n",
              "mean    1733.143852        864.206542          0.153715    11.517318  \n",
              "std     2895.063757       2372.446607          0.292499     1.338331  \n",
              "min        0.000000          0.019163          0.000000     6.000000  \n",
              "25%      383.276166        169.123707          0.000000    12.000000  \n",
              "50%      856.901546        312.343947          0.000000    12.000000  \n",
              "75%     1901.134317        825.485459          0.142857    12.000000  \n",
              "max    50721.483360      76406.207520          1.000000    12.000000  "
            ],
            "text/html": [
              "\n",
              "  <div id=\"df-23ba0a50-7692-4293-bf49-64c40ced327f\">\n",
              "    <div class=\"colab-df-container\">\n",
              "      <div>\n",
              "<style scoped>\n",
              "    .dataframe tbody tr th:only-of-type {\n",
              "        vertical-align: middle;\n",
              "    }\n",
              "\n",
              "    .dataframe tbody tr th {\n",
              "        vertical-align: top;\n",
              "    }\n",
              "\n",
              "    .dataframe thead th {\n",
              "        text-align: right;\n",
              "    }\n",
              "</style>\n",
              "<table border=\"1\" class=\"dataframe\">\n",
              "  <thead>\n",
              "    <tr style=\"text-align: right;\">\n",
              "      <th></th>\n",
              "      <th>BALANCE</th>\n",
              "      <th>BALANCE_FREQUENCY</th>\n",
              "      <th>PURCHASES</th>\n",
              "      <th>ONEOFF_PURCHASES</th>\n",
              "      <th>INSTALLMENTS_PURCHASES</th>\n",
              "      <th>CASH_ADVANCE</th>\n",
              "      <th>PURCHASES_FREQUENCY</th>\n",
              "      <th>ONEOFF_PURCHASES_FREQUENCY</th>\n",
              "      <th>PURCHASES_INSTALLMENTS_FREQUENCY</th>\n",
              "      <th>CASH_ADVANCE_FREQUENCY</th>\n",
              "      <th>CASH_ADVANCE_TRX</th>\n",
              "      <th>PURCHASES_TRX</th>\n",
              "      <th>CREDIT_LIMIT</th>\n",
              "      <th>PAYMENTS</th>\n",
              "      <th>MINIMUM_PAYMENTS</th>\n",
              "      <th>PRC_FULL_PAYMENT</th>\n",
              "      <th>TENURE</th>\n",
              "    </tr>\n",
              "  </thead>\n",
              "  <tbody>\n",
              "    <tr>\n",
              "      <th>count</th>\n",
              "      <td>8950.000000</td>\n",
              "      <td>8950.000000</td>\n",
              "      <td>8950.000000</td>\n",
              "      <td>8950.000000</td>\n",
              "      <td>8950.000000</td>\n",
              "      <td>8950.000000</td>\n",
              "      <td>8950.000000</td>\n",
              "      <td>8950.000000</td>\n",
              "      <td>8950.000000</td>\n",
              "      <td>8950.000000</td>\n",
              "      <td>8950.000000</td>\n",
              "      <td>8950.000000</td>\n",
              "      <td>8949.000000</td>\n",
              "      <td>8950.000000</td>\n",
              "      <td>8637.000000</td>\n",
              "      <td>8950.000000</td>\n",
              "      <td>8950.000000</td>\n",
              "    </tr>\n",
              "    <tr>\n",
              "      <th>mean</th>\n",
              "      <td>1564.474828</td>\n",
              "      <td>0.877271</td>\n",
              "      <td>1003.204834</td>\n",
              "      <td>592.437371</td>\n",
              "      <td>411.067645</td>\n",
              "      <td>978.871112</td>\n",
              "      <td>0.490351</td>\n",
              "      <td>0.202458</td>\n",
              "      <td>0.364437</td>\n",
              "      <td>0.135144</td>\n",
              "      <td>3.248827</td>\n",
              "      <td>14.709832</td>\n",
              "      <td>4494.449450</td>\n",
              "      <td>1733.143852</td>\n",
              "      <td>864.206542</td>\n",
              "      <td>0.153715</td>\n",
              "      <td>11.517318</td>\n",
              "    </tr>\n",
              "    <tr>\n",
              "      <th>std</th>\n",
              "      <td>2081.531879</td>\n",
              "      <td>0.236904</td>\n",
              "      <td>2136.634782</td>\n",
              "      <td>1659.887917</td>\n",
              "      <td>904.338115</td>\n",
              "      <td>2097.163877</td>\n",
              "      <td>0.401371</td>\n",
              "      <td>0.298336</td>\n",
              "      <td>0.397448</td>\n",
              "      <td>0.200121</td>\n",
              "      <td>6.824647</td>\n",
              "      <td>24.857649</td>\n",
              "      <td>3638.815725</td>\n",
              "      <td>2895.063757</td>\n",
              "      <td>2372.446607</td>\n",
              "      <td>0.292499</td>\n",
              "      <td>1.338331</td>\n",
              "    </tr>\n",
              "    <tr>\n",
              "      <th>min</th>\n",
              "      <td>0.000000</td>\n",
              "      <td>0.000000</td>\n",
              "      <td>0.000000</td>\n",
              "      <td>0.000000</td>\n",
              "      <td>0.000000</td>\n",
              "      <td>0.000000</td>\n",
              "      <td>0.000000</td>\n",
              "      <td>0.000000</td>\n",
              "      <td>0.000000</td>\n",
              "      <td>0.000000</td>\n",
              "      <td>0.000000</td>\n",
              "      <td>0.000000</td>\n",
              "      <td>50.000000</td>\n",
              "      <td>0.000000</td>\n",
              "      <td>0.019163</td>\n",
              "      <td>0.000000</td>\n",
              "      <td>6.000000</td>\n",
              "    </tr>\n",
              "    <tr>\n",
              "      <th>25%</th>\n",
              "      <td>128.281915</td>\n",
              "      <td>0.888889</td>\n",
              "      <td>39.635000</td>\n",
              "      <td>0.000000</td>\n",
              "      <td>0.000000</td>\n",
              "      <td>0.000000</td>\n",
              "      <td>0.083333</td>\n",
              "      <td>0.000000</td>\n",
              "      <td>0.000000</td>\n",
              "      <td>0.000000</td>\n",
              "      <td>0.000000</td>\n",
              "      <td>1.000000</td>\n",
              "      <td>1600.000000</td>\n",
              "      <td>383.276166</td>\n",
              "      <td>169.123707</td>\n",
              "      <td>0.000000</td>\n",
              "      <td>12.000000</td>\n",
              "    </tr>\n",
              "    <tr>\n",
              "      <th>50%</th>\n",
              "      <td>873.385231</td>\n",
              "      <td>1.000000</td>\n",
              "      <td>361.280000</td>\n",
              "      <td>38.000000</td>\n",
              "      <td>89.000000</td>\n",
              "      <td>0.000000</td>\n",
              "      <td>0.500000</td>\n",
              "      <td>0.083333</td>\n",
              "      <td>0.166667</td>\n",
              "      <td>0.000000</td>\n",
              "      <td>0.000000</td>\n",
              "      <td>7.000000</td>\n",
              "      <td>3000.000000</td>\n",
              "      <td>856.901546</td>\n",
              "      <td>312.343947</td>\n",
              "      <td>0.000000</td>\n",
              "      <td>12.000000</td>\n",
              "    </tr>\n",
              "    <tr>\n",
              "      <th>75%</th>\n",
              "      <td>2054.140036</td>\n",
              "      <td>1.000000</td>\n",
              "      <td>1110.130000</td>\n",
              "      <td>577.405000</td>\n",
              "      <td>468.637500</td>\n",
              "      <td>1113.821139</td>\n",
              "      <td>0.916667</td>\n",
              "      <td>0.300000</td>\n",
              "      <td>0.750000</td>\n",
              "      <td>0.222222</td>\n",
              "      <td>4.000000</td>\n",
              "      <td>17.000000</td>\n",
              "      <td>6500.000000</td>\n",
              "      <td>1901.134317</td>\n",
              "      <td>825.485459</td>\n",
              "      <td>0.142857</td>\n",
              "      <td>12.000000</td>\n",
              "    </tr>\n",
              "    <tr>\n",
              "      <th>max</th>\n",
              "      <td>19043.138560</td>\n",
              "      <td>1.000000</td>\n",
              "      <td>49039.570000</td>\n",
              "      <td>40761.250000</td>\n",
              "      <td>22500.000000</td>\n",
              "      <td>47137.211760</td>\n",
              "      <td>1.000000</td>\n",
              "      <td>1.000000</td>\n",
              "      <td>1.000000</td>\n",
              "      <td>1.500000</td>\n",
              "      <td>123.000000</td>\n",
              "      <td>358.000000</td>\n",
              "      <td>30000.000000</td>\n",
              "      <td>50721.483360</td>\n",
              "      <td>76406.207520</td>\n",
              "      <td>1.000000</td>\n",
              "      <td>12.000000</td>\n",
              "    </tr>\n",
              "  </tbody>\n",
              "</table>\n",
              "</div>\n",
              "      <button class=\"colab-df-convert\" onclick=\"convertToInteractive('df-23ba0a50-7692-4293-bf49-64c40ced327f')\"\n",
              "              title=\"Convert this dataframe to an interactive table.\"\n",
              "              style=\"display:none;\">\n",
              "        \n",
              "  <svg xmlns=\"http://www.w3.org/2000/svg\" height=\"24px\"viewBox=\"0 0 24 24\"\n",
              "       width=\"24px\">\n",
              "    <path d=\"M0 0h24v24H0V0z\" fill=\"none\"/>\n",
              "    <path d=\"M18.56 5.44l.94 2.06.94-2.06 2.06-.94-2.06-.94-.94-2.06-.94 2.06-2.06.94zm-11 1L8.5 8.5l.94-2.06 2.06-.94-2.06-.94L8.5 2.5l-.94 2.06-2.06.94zm10 10l.94 2.06.94-2.06 2.06-.94-2.06-.94-.94-2.06-.94 2.06-2.06.94z\"/><path d=\"M17.41 7.96l-1.37-1.37c-.4-.4-.92-.59-1.43-.59-.52 0-1.04.2-1.43.59L10.3 9.45l-7.72 7.72c-.78.78-.78 2.05 0 2.83L4 21.41c.39.39.9.59 1.41.59.51 0 1.02-.2 1.41-.59l7.78-7.78 2.81-2.81c.8-.78.8-2.07 0-2.86zM5.41 20L4 18.59l7.72-7.72 1.47 1.35L5.41 20z\"/>\n",
              "  </svg>\n",
              "      </button>\n",
              "      \n",
              "  <style>\n",
              "    .colab-df-container {\n",
              "      display:flex;\n",
              "      flex-wrap:wrap;\n",
              "      gap: 12px;\n",
              "    }\n",
              "\n",
              "    .colab-df-convert {\n",
              "      background-color: #E8F0FE;\n",
              "      border: none;\n",
              "      border-radius: 50%;\n",
              "      cursor: pointer;\n",
              "      display: none;\n",
              "      fill: #1967D2;\n",
              "      height: 32px;\n",
              "      padding: 0 0 0 0;\n",
              "      width: 32px;\n",
              "    }\n",
              "\n",
              "    .colab-df-convert:hover {\n",
              "      background-color: #E2EBFA;\n",
              "      box-shadow: 0px 1px 2px rgba(60, 64, 67, 0.3), 0px 1px 3px 1px rgba(60, 64, 67, 0.15);\n",
              "      fill: #174EA6;\n",
              "    }\n",
              "\n",
              "    [theme=dark] .colab-df-convert {\n",
              "      background-color: #3B4455;\n",
              "      fill: #D2E3FC;\n",
              "    }\n",
              "\n",
              "    [theme=dark] .colab-df-convert:hover {\n",
              "      background-color: #434B5C;\n",
              "      box-shadow: 0px 1px 3px 1px rgba(0, 0, 0, 0.15);\n",
              "      filter: drop-shadow(0px 1px 2px rgba(0, 0, 0, 0.3));\n",
              "      fill: #FFFFFF;\n",
              "    }\n",
              "  </style>\n",
              "\n",
              "      <script>\n",
              "        const buttonEl =\n",
              "          document.querySelector('#df-23ba0a50-7692-4293-bf49-64c40ced327f button.colab-df-convert');\n",
              "        buttonEl.style.display =\n",
              "          google.colab.kernel.accessAllowed ? 'block' : 'none';\n",
              "\n",
              "        async function convertToInteractive(key) {\n",
              "          const element = document.querySelector('#df-23ba0a50-7692-4293-bf49-64c40ced327f');\n",
              "          const dataTable =\n",
              "            await google.colab.kernel.invokeFunction('convertToInteractive',\n",
              "                                                     [key], {});\n",
              "          if (!dataTable) return;\n",
              "\n",
              "          const docLinkHtml = 'Like what you see? Visit the ' +\n",
              "            '<a target=\"_blank\" href=https://colab.research.google.com/notebooks/data_table.ipynb>data table notebook</a>'\n",
              "            + ' to learn more about interactive tables.';\n",
              "          element.innerHTML = '';\n",
              "          dataTable['output_type'] = 'display_data';\n",
              "          await google.colab.output.renderOutput(dataTable, element);\n",
              "          const docLink = document.createElement('div');\n",
              "          docLink.innerHTML = docLinkHtml;\n",
              "          element.appendChild(docLink);\n",
              "        }\n",
              "      </script>\n",
              "    </div>\n",
              "  </div>\n",
              "  "
            ]
          },
          "metadata": {},
          "execution_count": 568
        }
      ]
    },
    {
      "cell_type": "code",
      "source": [
        "df.info()"
      ],
      "metadata": {
        "colab": {
          "base_uri": "https://localhost:8080/"
        },
        "id": "wrXWEUAVI8hH",
        "outputId": "80e0873e-f34a-458d-ef20-e6f84c422d5b"
      },
      "execution_count": 569,
      "outputs": [
        {
          "output_type": "stream",
          "name": "stdout",
          "text": [
            "<class 'pandas.core.frame.DataFrame'>\n",
            "RangeIndex: 8950 entries, 0 to 8949\n",
            "Data columns (total 17 columns):\n",
            " #   Column                            Non-Null Count  Dtype  \n",
            "---  ------                            --------------  -----  \n",
            " 0   BALANCE                           8950 non-null   float64\n",
            " 1   BALANCE_FREQUENCY                 8950 non-null   float64\n",
            " 2   PURCHASES                         8950 non-null   float64\n",
            " 3   ONEOFF_PURCHASES                  8950 non-null   float64\n",
            " 4   INSTALLMENTS_PURCHASES            8950 non-null   float64\n",
            " 5   CASH_ADVANCE                      8950 non-null   float64\n",
            " 6   PURCHASES_FREQUENCY               8950 non-null   float64\n",
            " 7   ONEOFF_PURCHASES_FREQUENCY        8950 non-null   float64\n",
            " 8   PURCHASES_INSTALLMENTS_FREQUENCY  8950 non-null   float64\n",
            " 9   CASH_ADVANCE_FREQUENCY            8950 non-null   float64\n",
            " 10  CASH_ADVANCE_TRX                  8950 non-null   int64  \n",
            " 11  PURCHASES_TRX                     8950 non-null   int64  \n",
            " 12  CREDIT_LIMIT                      8949 non-null   float64\n",
            " 13  PAYMENTS                          8950 non-null   float64\n",
            " 14  MINIMUM_PAYMENTS                  8637 non-null   float64\n",
            " 15  PRC_FULL_PAYMENT                  8950 non-null   float64\n",
            " 16  TENURE                            8950 non-null   int64  \n",
            "dtypes: float64(14), int64(3)\n",
            "memory usage: 1.2 MB\n"
          ]
        }
      ]
    },
    {
      "cell_type": "code",
      "source": [
        "df.isnull().sum()"
      ],
      "metadata": {
        "colab": {
          "base_uri": "https://localhost:8080/"
        },
        "id": "0sEzaZT7I-AW",
        "outputId": "68d59fc1-1711-4a0c-e5b0-a702ebf9cac1"
      },
      "execution_count": 570,
      "outputs": [
        {
          "output_type": "execute_result",
          "data": {
            "text/plain": [
              "BALANCE                               0\n",
              "BALANCE_FREQUENCY                     0\n",
              "PURCHASES                             0\n",
              "ONEOFF_PURCHASES                      0\n",
              "INSTALLMENTS_PURCHASES                0\n",
              "CASH_ADVANCE                          0\n",
              "PURCHASES_FREQUENCY                   0\n",
              "ONEOFF_PURCHASES_FREQUENCY            0\n",
              "PURCHASES_INSTALLMENTS_FREQUENCY      0\n",
              "CASH_ADVANCE_FREQUENCY                0\n",
              "CASH_ADVANCE_TRX                      0\n",
              "PURCHASES_TRX                         0\n",
              "CREDIT_LIMIT                          1\n",
              "PAYMENTS                              0\n",
              "MINIMUM_PAYMENTS                    313\n",
              "PRC_FULL_PAYMENT                      0\n",
              "TENURE                                0\n",
              "dtype: int64"
            ]
          },
          "metadata": {},
          "execution_count": 570
        }
      ]
    },
    {
      "cell_type": "code",
      "source": [
        "df.hist(bins = 50,figsize = (20,15))"
      ],
      "metadata": {
        "colab": {
          "base_uri": "https://localhost:8080/",
          "height": 1000
        },
        "id": "JSP_6DSnLT6h",
        "outputId": "f69b69cc-2cba-43e8-954a-b86af1374482"
      },
      "execution_count": 571,
      "outputs": [
        {
          "output_type": "execute_result",
          "data": {
            "text/plain": [
              "array([[<matplotlib.axes._subplots.AxesSubplot object at 0x7f3a446df490>,\n",
              "        <matplotlib.axes._subplots.AxesSubplot object at 0x7f3a434d6d10>,\n",
              "        <matplotlib.axes._subplots.AxesSubplot object at 0x7f3a42d0c310>,\n",
              "        <matplotlib.axes._subplots.AxesSubplot object at 0x7f3a48ab7250>],\n",
              "       [<matplotlib.axes._subplots.AxesSubplot object at 0x7f3a48aaa8d0>,\n",
              "        <matplotlib.axes._subplots.AxesSubplot object at 0x7f3a48d50bd0>,\n",
              "        <matplotlib.axes._subplots.AxesSubplot object at 0x7f3a43d9e150>,\n",
              "        <matplotlib.axes._subplots.AxesSubplot object at 0x7f3a46718590>],\n",
              "       [<matplotlib.axes._subplots.AxesSubplot object at 0x7f3a467185d0>,\n",
              "        <matplotlib.axes._subplots.AxesSubplot object at 0x7f3a455bebd0>,\n",
              "        <matplotlib.axes._subplots.AxesSubplot object at 0x7f3a45226550>,\n",
              "        <matplotlib.axes._subplots.AxesSubplot object at 0x7f3a454f4a50>],\n",
              "       [<matplotlib.axes._subplots.AxesSubplot object at 0x7f3a4423cf50>,\n",
              "        <matplotlib.axes._subplots.AxesSubplot object at 0x7f3a46101490>,\n",
              "        <matplotlib.axes._subplots.AxesSubplot object at 0x7f3a46507990>,\n",
              "        <matplotlib.axes._subplots.AxesSubplot object at 0x7f3a4653ae90>],\n",
              "       [<matplotlib.axes._subplots.AxesSubplot object at 0x7f3a466633d0>,\n",
              "        <matplotlib.axes._subplots.AxesSubplot object at 0x7f3a473d58d0>,\n",
              "        <matplotlib.axes._subplots.AxesSubplot object at 0x7f3a46e8fdd0>,\n",
              "        <matplotlib.axes._subplots.AxesSubplot object at 0x7f3a4602d310>]],\n",
              "      dtype=object)"
            ]
          },
          "metadata": {},
          "execution_count": 571
        },
        {
          "output_type": "display_data",
          "data": {
            "text/plain": [
              "<Figure size 1440x1080 with 20 Axes>"
            ],
            "image/png": "[encoded data removed]"
          },
          "metadata": {}
        }
      ]
    },
    {
      "cell_type": "code",
      "source": [
        "df.skew()"
      ],
      "metadata": {
        "colab": {
          "base_uri": "https://localhost:8080/"
        },
        "id": "dWfbX1dC5q1m",
        "outputId": "f52f3f59-e2b0-4abf-a25d-4b523b958adc"
      },
      "execution_count": 572,
      "outputs": [
        {
          "output_type": "execute_result",
          "data": {
            "text/plain": [
              "BALANCE                              2.393386\n",
              "BALANCE_FREQUENCY                   -2.023266\n",
              "PURCHASES                            8.144269\n",
              "ONEOFF_PURCHASES                    10.045083\n",
              "INSTALLMENTS_PURCHASES               7.299120\n",
              "CASH_ADVANCE                         5.166609\n",
              "PURCHASES_FREQUENCY                  0.060164\n",
              "ONEOFF_PURCHASES_FREQUENCY           1.535613\n",
              "PURCHASES_INSTALLMENTS_FREQUENCY     0.509201\n",
              "CASH_ADVANCE_FREQUENCY               1.828686\n",
              "CASH_ADVANCE_TRX                     5.721298\n",
              "PURCHASES_TRX                        4.630655\n",
              "CREDIT_LIMIT                         1.522464\n",
              "PAYMENTS                             5.907620\n",
              "MINIMUM_PAYMENTS                    13.622797\n",
              "PRC_FULL_PAYMENT                     1.942820\n",
              "TENURE                              -2.943017\n",
              "dtype: float64"
            ]
          },
          "metadata": {},
          "execution_count": 572
        }
      ]
    },
    {
      "cell_type": "code",
      "source": [
        "df.nunique()"
      ],
      "metadata": {
        "id": "bKEwudRl8lpy",
        "outputId": "4d3d184d-aef0-45ef-d92f-3d0954f9691e",
        "colab": {
          "base_uri": "https://localhost:8080/"
        }
      },
      "execution_count": 573,
      "outputs": [
        {
          "output_type": "execute_result",
          "data": {
            "text/plain": [
              "BALANCE                             8871\n",
              "BALANCE_FREQUENCY                     43\n",
              "PURCHASES                           6203\n",
              "ONEOFF_PURCHASES                    4014\n",
              "INSTALLMENTS_PURCHASES              4452\n",
              "CASH_ADVANCE                        4323\n",
              "PURCHASES_FREQUENCY                   47\n",
              "ONEOFF_PURCHASES_FREQUENCY            47\n",
              "PURCHASES_INSTALLMENTS_FREQUENCY      47\n",
              "CASH_ADVANCE_FREQUENCY                54\n",
              "CASH_ADVANCE_TRX                      65\n",
              "PURCHASES_TRX                        173\n",
              "CREDIT_LIMIT                         205\n",
              "PAYMENTS                            8711\n",
              "MINIMUM_PAYMENTS                    8636\n",
              "PRC_FULL_PAYMENT                      47\n",
              "TENURE                                 7\n",
              "dtype: int64"
            ]
          },
          "metadata": {},
          "execution_count": 573
        }
      ]
    },
    {
      "cell_type": "markdown",
      "source": [
        "\n",
        "\n",
        "---\n",
        "\n",
        "\n",
        "\n",
        "---\n",
        "\n"
      ],
      "metadata": {
        "id": "S1uc8xogJlYW"
      }
    },
    {
      "cell_type": "markdown",
      "source": [
        "# Data Preprocessing"
      ],
      "metadata": {
        "id": "TO6XMg5bJhyp"
      }
    },
    {
      "cell_type": "markdown",
      "source": [
        "### *Handling Missing Values*"
      ],
      "metadata": {
        "id": "BTee2zVCS4-9"
      }
    },
    {
      "cell_type": "code",
      "source": [
        "df_copy = df\n",
        "df_copy[\"CREDIT_LIMIT\"].fillna(df_copy[\"CREDIT_LIMIT\"].median(),inplace=True)\n",
        "df_copy[\"MINIMUM_PAYMENTS\"].fillna(df_copy[\"MINIMUM_PAYMENTS\"].median(),inplace=True)\n",
        "\n"
      ],
      "metadata": {
        "id": "wbJ_9HgETEb3"
      },
      "execution_count": 574,
      "outputs": []
    },
    {
      "cell_type": "markdown",
      "source": [
        "### *Data Scaling*"
      ],
      "metadata": {
        "id": "LOZdtbc8TUdO"
      }
    },
    {
      "cell_type": "code",
      "source": [
        "sc = StandardScaler()\n",
        "df_scal = sc.fit_transform(df_copy)"
      ],
      "metadata": {
        "id": "YM9RauC3TZtA"
      },
      "execution_count": 575,
      "outputs": []
    },
    {
      "cell_type": "code",
      "source": [
        "df_scal"
      ],
      "metadata": {
        "colab": {
          "base_uri": "https://localhost:8080/"
        },
        "id": "GOSpxwpfWqax",
        "outputId": "f66e71fd-7d0f-407e-ed4f-c04899ab0ce1"
      },
      "execution_count": 576,
      "outputs": [
        {
          "output_type": "execute_result",
          "data": {
            "text/plain": [
              "array([[-0.73198937, -0.24943448, -0.42489974, ..., -0.3024    ,\n",
              "        -0.52555097,  0.36067954],\n",
              "       [ 0.78696085,  0.13432467, -0.46955188, ...,  0.09749953,\n",
              "         0.2342269 ,  0.36067954],\n",
              "       [ 0.44713513,  0.51808382, -0.10766823, ..., -0.0932934 ,\n",
              "        -0.52555097,  0.36067954],\n",
              "       ...,\n",
              "       [-0.7403981 , -0.18547673, -0.40196519, ..., -0.32687479,\n",
              "         0.32919999, -4.12276757],\n",
              "       [-0.74517423, -0.18547673, -0.46955188, ..., -0.33830497,\n",
              "         0.32919999, -4.12276757],\n",
              "       [-0.57257511, -0.88903307,  0.04214581, ..., -0.3243581 ,\n",
              "        -0.52555097, -4.12276757]])"
            ]
          },
          "metadata": {},
          "execution_count": 576
        }
      ]
    },
    {
      "cell_type": "markdown",
      "source": [
        "### *Log Transformation*"
      ],
      "metadata": {
        "id": "PeSZK39aUUHA"
      }
    },
    {
      "cell_type": "code",
      "source": [
        "cols = ['BALANCE', 'ONEOFF_PURCHASES', 'INSTALLMENTS_PURCHASES', 'CASH_ADVANCE', 'ONEOFF_PURCHASES_FREQUENCY','PURCHASES_INSTALLMENTS_FREQUENCY', 'CASH_ADVANCE_TRX', 'PURCHASES_TRX', 'CREDIT_LIMIT', 'PAYMENTS', 'MINIMUM_PAYMENTS', 'PRC_FULL_PAYMENT']\n",
        "for col in cols:\n",
        "     df_copy[col] = np.log(1 + df_copy[col])"
      ],
      "metadata": {
        "id": "iY0VvqHUUZd5"
      },
      "execution_count": 577,
      "outputs": []
    },
    {
      "cell_type": "code",
      "source": [
        "df_copy"
      ],
      "metadata": {
        "colab": {
          "base_uri": "https://localhost:8080/",
          "height": 488
        },
        "id": "F-hXgQ1YaP5l",
        "outputId": "cf43da1c-8237-4a65-d986-bf5468d9cbdb"
      },
      "execution_count": 578,
      "outputs": [
        {
          "output_type": "execute_result",
          "data": {
            "text/plain": [
              "       BALANCE  BALANCE_FREQUENCY  PURCHASES  ONEOFF_PURCHASES  \\\n",
              "0     3.735304           0.818182      95.40          0.000000   \n",
              "1     8.071989           0.909091       0.00          0.000000   \n",
              "2     7.822504           1.000000     773.17          6.651791   \n",
              "3     7.419183           0.636364    1499.00          7.313220   \n",
              "4     6.707735           1.000000      16.00          2.833213   \n",
              "...        ...                ...        ...               ...   \n",
              "8945  3.384170           1.000000     291.12          0.000000   \n",
              "8946  3.004851           1.000000     300.00          0.000000   \n",
              "8947  3.194529           0.833333     144.40          0.000000   \n",
              "8948  2.671218           0.833333       0.00          0.000000   \n",
              "8949  5.923475           0.666667    1093.25          6.997824   \n",
              "\n",
              "      INSTALLMENTS_PURCHASES  CASH_ADVANCE  PURCHASES_FREQUENCY  \\\n",
              "0                   4.568506      0.000000             0.166667   \n",
              "1                   0.000000      8.770896             0.000000   \n",
              "2                   0.000000      0.000000             1.000000   \n",
              "3                   0.000000      5.331694             0.083333   \n",
              "4                   0.000000      0.000000             0.083333   \n",
              "...                      ...           ...                  ...   \n",
              "8945                5.677165      0.000000             1.000000   \n",
              "8946                5.707110      0.000000             1.000000   \n",
              "8947                4.979489      0.000000             0.833333   \n",
              "8948                0.000000      3.625907             0.000000   \n",
              "8949                0.000000      4.852343             0.666667   \n",
              "\n",
              "      ONEOFF_PURCHASES_FREQUENCY  PURCHASES_INSTALLMENTS_FREQUENCY  \\\n",
              "0                       0.000000                          0.080042   \n",
              "1                       0.000000                          0.000000   \n",
              "2                       0.693147                          0.000000   \n",
              "3                       0.080042                          0.000000   \n",
              "4                       0.080042                          0.000000   \n",
              "...                          ...                               ...   \n",
              "8945                    0.000000                          0.606136   \n",
              "8946                    0.000000                          0.606136   \n",
              "8947                    0.000000                          0.510826   \n",
              "8948                    0.000000                          0.000000   \n",
              "8949                    0.510826                          0.000000   \n",
              "\n",
              "      CASH_ADVANCE_FREQUENCY  CASH_ADVANCE_TRX  PURCHASES_TRX  CREDIT_LIMIT  \\\n",
              "0                   0.000000          0.000000       1.098612      6.908755   \n",
              "1                   0.250000          1.609438       0.000000      8.853808   \n",
              "2                   0.000000          0.000000       2.564949      8.922792   \n",
              "3                   0.083333          0.693147       0.693147      8.922792   \n",
              "4                   0.000000          0.000000       0.693147      7.090910   \n",
              "...                      ...               ...            ...           ...   \n",
              "8945                0.000000          0.000000       1.945910      6.908755   \n",
              "8946                0.000000          0.000000       1.945910      6.908755   \n",
              "8947                0.000000          0.000000       1.791759      6.908755   \n",
              "8948                0.166667          1.098612       0.000000      6.216606   \n",
              "8949                0.333333          1.098612       3.178054      7.090910   \n",
              "\n",
              "      PAYMENTS  MINIMUM_PAYMENTS  PRC_FULL_PAYMENT  TENURE  \n",
              "0     5.312231          4.945277          0.000000      12  \n",
              "1     8.319725          6.978531          0.200671      12  \n",
              "2     6.434654          6.442994          0.000000      12  \n",
              "3     0.000000          5.747301          0.000000      12  \n",
              "4     6.521114          5.504483          0.000000      12  \n",
              "...        ...               ...               ...     ...  \n",
              "8945  5.788719          3.909748          0.405465       6  \n",
              "8946  5.623517          5.747301          0.000000       6  \n",
              "8947  4.410016          4.423869          0.223144       6  \n",
              "8948  3.980615          4.038755          0.223144       6  \n",
              "8949  4.161464          4.491878          0.000000       6  \n",
              "\n",
              "[8950 rows x 17 columns]"
            ],
            "text/html": [
              "\n",
              "  <div id=\"df-2e572607-8204-48f2-95ea-4de4dd3edcf3\">\n",
              "    <div class=\"colab-df-container\">\n",
              "      <div>\n",
              "<style scoped>\n",
              "    .dataframe tbody tr th:only-of-type {\n",
              "        vertical-align: middle;\n",
              "    }\n",
              "\n",
              "    .dataframe tbody tr th {\n",
              "        vertical-align: top;\n",
              "    }\n",
              "\n",
              "    .dataframe thead th {\n",
              "        text-align: right;\n",
              "    }\n",
              "</style>\n",
              "<table border=\"1\" class=\"dataframe\">\n",
              "  <thead>\n",
              "    <tr style=\"text-align: right;\">\n",
              "      <th></th>\n",
              "      <th>BALANCE</th>\n",
              "      <th>BALANCE_FREQUENCY</th>\n",
              "      <th>PURCHASES</th>\n",
              "      <th>ONEOFF_PURCHASES</th>\n",
              "      <th>INSTALLMENTS_PURCHASES</th>\n",
              "      <th>CASH_ADVANCE</th>\n",
              "      <th>PURCHASES_FREQUENCY</th>\n",
              "      <th>ONEOFF_PURCHASES_FREQUENCY</th>\n",
              "      <th>PURCHASES_INSTALLMENTS_FREQUENCY</th>\n",
              "      <th>CASH_ADVANCE_FREQUENCY</th>\n",
              "      <th>CASH_ADVANCE_TRX</th>\n",
              "      <th>PURCHASES_TRX</th>\n",
              "      <th>CREDIT_LIMIT</th>\n",
              "      <th>PAYMENTS</th>\n",
              "      <th>MINIMUM_PAYMENTS</th>\n",
              "      <th>PRC_FULL_PAYMENT</th>\n",
              "      <th>TENURE</th>\n",
              "    </tr>\n",
              "  </thead>\n",
              "  <tbody>\n",
              "    <tr>\n",
              "      <th>0</th>\n",
              "      <td>3.735304</td>\n",
              "      <td>0.818182</td>\n",
              "      <td>95.40</td>\n",
              "      <td>0.000000</td>\n",
              "      <td>4.568506</td>\n",
              "      <td>0.000000</td>\n",
              "      <td>0.166667</td>\n",
              "      <td>0.000000</td>\n",
              "      <td>0.080042</td>\n",
              "      <td>0.000000</td>\n",
              "      <td>0.000000</td>\n",
              "      <td>1.098612</td>\n",
              "      <td>6.908755</td>\n",
              "      <td>5.312231</td>\n",
              "      <td>4.945277</td>\n",
              "      <td>0.000000</td>\n",
              "      <td>12</td>\n",
              "    </tr>\n",
              "    <tr>\n",
              "      <th>1</th>\n",
              "      <td>8.071989</td>\n",
              "      <td>0.909091</td>\n",
              "      <td>0.00</td>\n",
              "      <td>0.000000</td>\n",
              "      <td>0.000000</td>\n",
              "      <td>8.770896</td>\n",
              "      <td>0.000000</td>\n",
              "      <td>0.000000</td>\n",
              "      <td>0.000000</td>\n",
              "      <td>0.250000</td>\n",
              "      <td>1.609438</td>\n",
              "      <td>0.000000</td>\n",
              "      <td>8.853808</td>\n",
              "      <td>8.319725</td>\n",
              "      <td>6.978531</td>\n",
              "      <td>0.200671</td>\n",
              "      <td>12</td>\n",
              "    </tr>\n",
              "    <tr>\n",
              "      <th>2</th>\n",
              "      <td>7.822504</td>\n",
              "      <td>1.000000</td>\n",
              "      <td>773.17</td>\n",
              "      <td>6.651791</td>\n",
              "      <td>0.000000</td>\n",
              "      <td>0.000000</td>\n",
              "      <td>1.000000</td>\n",
              "      <td>0.693147</td>\n",
              "      <td>0.000000</td>\n",
              "      <td>0.000000</td>\n",
              "      <td>0.000000</td>\n",
              "      <td>2.564949</td>\n",
              "      <td>8.922792</td>\n",
              "      <td>6.434654</td>\n",
              "      <td>6.442994</td>\n",
              "      <td>0.000000</td>\n",
              "      <td>12</td>\n",
              "    </tr>\n",
              "    <tr>\n",
              "      <th>3</th>\n",
              "      <td>7.419183</td>\n",
              "      <td>0.636364</td>\n",
              "      <td>1499.00</td>\n",
              "      <td>7.313220</td>\n",
              "      <td>0.000000</td>\n",
              "      <td>5.331694</td>\n",
              "      <td>0.083333</td>\n",
              "      <td>0.080042</td>\n",
              "      <td>0.000000</td>\n",
              "      <td>0.083333</td>\n",
              "      <td>0.693147</td>\n",
              "      <td>0.693147</td>\n",
              "      <td>8.922792</td>\n",
              "      <td>0.000000</td>\n",
              "      <td>5.747301</td>\n",
              "      <td>0.000000</td>\n",
              "      <td>12</td>\n",
              "    </tr>\n",
              "    <tr>\n",
              "      <th>4</th>\n",
              "      <td>6.707735</td>\n",
              "      <td>1.000000</td>\n",
              "      <td>16.00</td>\n",
              "      <td>2.833213</td>\n",
              "      <td>0.000000</td>\n",
              "      <td>0.000000</td>\n",
              "      <td>0.083333</td>\n",
              "      <td>0.080042</td>\n",
              "      <td>0.000000</td>\n",
              "      <td>0.000000</td>\n",
              "      <td>0.000000</td>\n",
              "      <td>0.693147</td>\n",
              "      <td>7.090910</td>\n",
              "      <td>6.521114</td>\n",
              "      <td>5.504483</td>\n",
              "      <td>0.000000</td>\n",
              "      <td>12</td>\n",
              "    </tr>\n",
              "    <tr>\n",
              "      <th>...</th>\n",
              "      <td>...</td>\n",
              "      <td>...</td>\n",
              "      <td>...</td>\n",
              "      <td>...</td>\n",
              "      <td>...</td>\n",
              "      <td>...</td>\n",
              "      <td>...</td>\n",
              "      <td>...</td>\n",
              "      <td>...</td>\n",
              "      <td>...</td>\n",
              "      <td>...</td>\n",
              "      <td>...</td>\n",
              "      <td>...</td>\n",
              "      <td>...</td>\n",
              "      <td>...</td>\n",
              "      <td>...</td>\n",
              "      <td>...</td>\n",
              "    </tr>\n",
              "    <tr>\n",
              "      <th>8945</th>\n",
              "      <td>3.384170</td>\n",
              "      <td>1.000000</td>\n",
              "      <td>291.12</td>\n",
              "      <td>0.000000</td>\n",
              "      <td>5.677165</td>\n",
              "      <td>0.000000</td>\n",
              "      <td>1.000000</td>\n",
              "      <td>0.000000</td>\n",
              "      <td>0.606136</td>\n",
              "      <td>0.000000</td>\n",
              "      <td>0.000000</td>\n",
              "      <td>1.945910</td>\n",
              "      <td>6.908755</td>\n",
              "      <td>5.788719</td>\n",
              "      <td>3.909748</td>\n",
              "      <td>0.405465</td>\n",
              "      <td>6</td>\n",
              "    </tr>\n",
              "    <tr>\n",
              "      <th>8946</th>\n",
              "      <td>3.004851</td>\n",
              "      <td>1.000000</td>\n",
              "      <td>300.00</td>\n",
              "      <td>0.000000</td>\n",
              "      <td>5.707110</td>\n",
              "      <td>0.000000</td>\n",
              "      <td>1.000000</td>\n",
              "      <td>0.000000</td>\n",
              "      <td>0.606136</td>\n",
              "      <td>0.000000</td>\n",
              "      <td>0.000000</td>\n",
              "      <td>1.945910</td>\n",
              "      <td>6.908755</td>\n",
              "      <td>5.623517</td>\n",
              "      <td>5.747301</td>\n",
              "      <td>0.000000</td>\n",
              "      <td>6</td>\n",
              "    </tr>\n",
              "    <tr>\n",
              "      <th>8947</th>\n",
              "      <td>3.194529</td>\n",
              "      <td>0.833333</td>\n",
              "      <td>144.40</td>\n",
              "      <td>0.000000</td>\n",
              "      <td>4.979489</td>\n",
              "      <td>0.000000</td>\n",
              "      <td>0.833333</td>\n",
              "      <td>0.000000</td>\n",
              "      <td>0.510826</td>\n",
              "      <td>0.000000</td>\n",
              "      <td>0.000000</td>\n",
              "      <td>1.791759</td>\n",
              "      <td>6.908755</td>\n",
              "      <td>4.410016</td>\n",
              "      <td>4.423869</td>\n",
              "      <td>0.223144</td>\n",
              "      <td>6</td>\n",
              "    </tr>\n",
              "    <tr>\n",
              "      <th>8948</th>\n",
              "      <td>2.671218</td>\n",
              "      <td>0.833333</td>\n",
              "      <td>0.00</td>\n",
              "      <td>0.000000</td>\n",
              "      <td>0.000000</td>\n",
              "      <td>3.625907</td>\n",
              "      <td>0.000000</td>\n",
              "      <td>0.000000</td>\n",
              "      <td>0.000000</td>\n",
              "      <td>0.166667</td>\n",
              "      <td>1.098612</td>\n",
              "      <td>0.000000</td>\n",
              "      <td>6.216606</td>\n",
              "      <td>3.980615</td>\n",
              "      <td>4.038755</td>\n",
              "      <td>0.223144</td>\n",
              "      <td>6</td>\n",
              "    </tr>\n",
              "    <tr>\n",
              "      <th>8949</th>\n",
              "      <td>5.923475</td>\n",
              "      <td>0.666667</td>\n",
              "      <td>1093.25</td>\n",
              "      <td>6.997824</td>\n",
              "      <td>0.000000</td>\n",
              "      <td>4.852343</td>\n",
              "      <td>0.666667</td>\n",
              "      <td>0.510826</td>\n",
              "      <td>0.000000</td>\n",
              "      <td>0.333333</td>\n",
              "      <td>1.098612</td>\n",
              "      <td>3.178054</td>\n",
              "      <td>7.090910</td>\n",
              "      <td>4.161464</td>\n",
              "      <td>4.491878</td>\n",
              "      <td>0.000000</td>\n",
              "      <td>6</td>\n",
              "    </tr>\n",
              "  </tbody>\n",
              "</table>\n",
              "<p>8950 rows × 17 columns</p>\n",
              "</div>\n",
              "      <button class=\"colab-df-convert\" onclick=\"convertToInteractive('df-2e572607-8204-48f2-95ea-4de4dd3edcf3')\"\n",
              "              title=\"Convert this dataframe to an interactive table.\"\n",
              "              style=\"display:none;\">\n",
              "        \n",
              "  <svg xmlns=\"http://www.w3.org/2000/svg\" height=\"24px\"viewBox=\"0 0 24 24\"\n",
              "       width=\"24px\">\n",
              "    <path d=\"M0 0h24v24H0V0z\" fill=\"none\"/>\n",
              "    <path d=\"M18.56 5.44l.94 2.06.94-2.06 2.06-.94-2.06-.94-.94-2.06-.94 2.06-2.06.94zm-11 1L8.5 8.5l.94-2.06 2.06-.94-2.06-.94L8.5 2.5l-.94 2.06-2.06.94zm10 10l.94 2.06.94-2.06 2.06-.94-2.06-.94-.94-2.06-.94 2.06-2.06.94z\"/><path d=\"M17.41 7.96l-1.37-1.37c-.4-.4-.92-.59-1.43-.59-.52 0-1.04.2-1.43.59L10.3 9.45l-7.72 7.72c-.78.78-.78 2.05 0 2.83L4 21.41c.39.39.9.59 1.41.59.51 0 1.02-.2 1.41-.59l7.78-7.78 2.81-2.81c.8-.78.8-2.07 0-2.86zM5.41 20L4 18.59l7.72-7.72 1.47 1.35L5.41 20z\"/>\n",
              "  </svg>\n",
              "      </button>\n",
              "      \n",
              "  <style>\n",
              "    .colab-df-container {\n",
              "      display:flex;\n",
              "      flex-wrap:wrap;\n",
              "      gap: 12px;\n",
              "    }\n",
              "\n",
              "    .colab-df-convert {\n",
              "      background-color: #E8F0FE;\n",
              "      border: none;\n",
              "      border-radius: 50%;\n",
              "      cursor: pointer;\n",
              "      display: none;\n",
              "      fill: #1967D2;\n",
              "      height: 32px;\n",
              "      padding: 0 0 0 0;\n",
              "      width: 32px;\n",
              "    }\n",
              "\n",
              "    .colab-df-convert:hover {\n",
              "      background-color: #E2EBFA;\n",
              "      box-shadow: 0px 1px 2px rgba(60, 64, 67, 0.3), 0px 1px 3px 1px rgba(60, 64, 67, 0.15);\n",
              "      fill: #174EA6;\n",
              "    }\n",
              "\n",
              "    [theme=dark] .colab-df-convert {\n",
              "      background-color: #3B4455;\n",
              "      fill: #D2E3FC;\n",
              "    }\n",
              "\n",
              "    [theme=dark] .colab-df-convert:hover {\n",
              "      background-color: #434B5C;\n",
              "      box-shadow: 0px 1px 3px 1px rgba(0, 0, 0, 0.15);\n",
              "      filter: drop-shadow(0px 1px 2px rgba(0, 0, 0, 0.3));\n",
              "      fill: #FFFFFF;\n",
              "    }\n",
              "  </style>\n",
              "\n",
              "      <script>\n",
              "        const buttonEl =\n",
              "          document.querySelector('#df-2e572607-8204-48f2-95ea-4de4dd3edcf3 button.colab-df-convert');\n",
              "        buttonEl.style.display =\n",
              "          google.colab.kernel.accessAllowed ? 'block' : 'none';\n",
              "\n",
              "        async function convertToInteractive(key) {\n",
              "          const element = document.querySelector('#df-2e572607-8204-48f2-95ea-4de4dd3edcf3');\n",
              "          const dataTable =\n",
              "            await google.colab.kernel.invokeFunction('convertToInteractive',\n",
              "                                                     [key], {});\n",
              "          if (!dataTable) return;\n",
              "\n",
              "          const docLinkHtml = 'Like what you see? Visit the ' +\n",
              "            '<a target=\"_blank\" href=https://colab.research.google.com/notebooks/data_table.ipynb>data table notebook</a>'\n",
              "            + ' to learn more about interactive tables.';\n",
              "          element.innerHTML = '';\n",
              "          dataTable['output_type'] = 'display_data';\n",
              "          await google.colab.output.renderOutput(dataTable, element);\n",
              "          const docLink = document.createElement('div');\n",
              "          docLink.innerHTML = docLinkHtml;\n",
              "          element.appendChild(docLink);\n",
              "        }\n",
              "      </script>\n",
              "    </div>\n",
              "  </div>\n",
              "  "
            ]
          },
          "metadata": {},
          "execution_count": 578
        }
      ]
    },
    {
      "cell_type": "markdown",
      "source": [
        "### *Quantile Transformation*"
      ],
      "metadata": {
        "id": "_tFC8M6XVU2i"
      }
    },
    {
      "cell_type": "code",
      "source": [
        "# #solution \n",
        "# trans = QuantileTransformer(n_quantiles=100, output_distribution='normal')\n",
        "# df_trans = trans.fit_transform(df_copy)\n",
        "# #test \n",
        "# df_copy = pd.DataFrame(df_trans,columns=df_copy.columns)\n",
        "# # histograms of the variables\n",
        "# %matplotlib inline\n",
        "# df_copy.hist(bins=50, figsize=(16,16))\n",
        "# plt.show()"
      ],
      "metadata": {
        "id": "fFzwjEiKVTr2"
      },
      "execution_count": 579,
      "outputs": []
    },
    {
      "cell_type": "markdown",
      "source": [
        "### *Is PCA better than Kernel PCA?*\n"
      ],
      "metadata": {
        "id": "gTEvct9W4fpN"
      }
    },
    {
      "cell_type": "markdown",
      "source": [
        "Kernel PCA: to help with the classification of data whose decision boundaries are described by non-linear function"
      ],
      "metadata": {
        "id": "EhuY-HX779ls"
      }
    },
    {
      "cell_type": "markdown",
      "source": [
        "### PCA"
      ],
      "metadata": {
        "id": "y0-ABMX_AY-b"
      }
    },
    {
      "cell_type": "code",
      "source": [
        "pca = PCA(n_components=4)\n",
        "df_pca = pca.fit_transform(df_copy)\n",
        "# #explained_variance = pca.explained_variance_ratio_\n"
      ],
      "metadata": {
        "id": "9I6GzeSmA1BP"
      },
      "execution_count": 580,
      "outputs": []
    },
    {
      "cell_type": "code",
      "source": [
        "# exp_var_cumul = np.cumsum(pca.explained_variance_ratio_)\n",
        "# px.area(\n",
        "#     x=range(1, exp_var_cumul.shape[0] + 1),\n",
        "#     y=exp_var_cumul,\n",
        "#     labels={\"x\": \"# Components\", \"y\": \"Explained Variance\"}\n",
        "# )"
      ],
      "metadata": {
        "id": "IvmBW2HyRY1X"
      },
      "execution_count": 581,
      "outputs": []
    },
    {
      "cell_type": "markdown",
      "source": [
        "### *Kernel PCA*"
      ],
      "metadata": {
        "id": "DeTN0HkEWQcx"
      }
    },
    {
      "cell_type": "code",
      "source": [
        "kernelPCA = KernelPCA(n_components=3, kernel='rbf', gamma=0.01)\n",
        "df_ker_PCA = kernelPCA.fit_transform(df_copy)"
      ],
      "metadata": {
        "id": "kSJyQhV_7KG3"
      },
      "execution_count": 582,
      "outputs": []
    },
    {
      "cell_type": "markdown",
      "source": [
        "### T-*SNE*"
      ],
      "metadata": {
        "id": "ClfL6es5XdG5"
      }
    },
    {
      "cell_type": "code",
      "source": [
        "tsne_projection = TSNE(n_components=2, \n",
        "                       perplexity=2.5, \n",
        "                       learning_rate=1, \n",
        "                       init='pca', \n",
        "                       method='barnes_hut', \n",
        "                       n_jobs=2, \n",
        "                       n_iter=10**4, \n",
        "                       random_state=0).fit_transform(df_copy.T)\n",
        "\n",
        "tsne_projection = pd.DataFrame(tsne_projection, index=df_copy.columns)"
      ],
      "metadata": {
        "colab": {
          "base_uri": "https://localhost:8080/"
        },
        "id": "5IqzrGtQdv2v",
        "outputId": "0ef5c59b-daac-4b45-c6c0-d6b84286c15d"
      },
      "execution_count": 583,
      "outputs": [
        {
          "output_type": "stream",
          "name": "stderr",
          "text": [
            "/usr/local/lib/python3.7/dist-packages/sklearn/manifold/_t_sne.py:986: FutureWarning:\n",
            "\n",
            "The PCA initialization in TSNE will change to have the standard deviation of PC1 equal to 1e-4 in 1.2. This will ensure better convergence.\n",
            "\n"
          ]
        }
      ]
    },
    {
      "cell_type": "code",
      "source": [
        "tsne_projection.shape"
      ],
      "metadata": {
        "colab": {
          "base_uri": "https://localhost:8080/"
        },
        "id": "ay8KZWXvd3Vf",
        "outputId": "b1afb0de-6479-4e76-d2f2-e0f296691dda"
      },
      "execution_count": 584,
      "outputs": [
        {
          "output_type": "execute_result",
          "data": {
            "text/plain": [
              "(17, 2)"
            ]
          },
          "metadata": {},
          "execution_count": 584
        }
      ]
    },
    {
      "cell_type": "code",
      "source": [
        "# fig = px.scatter(x=tsne_projection[0], y=tsne_projection[1], text=tsne_projection.index)\n",
        "# fig.update_traces(textposition='top center')\n",
        "# fig.update_layout(height=1000, width=1200, title_text='TSNE')\n",
        "# fig.show()"
      ],
      "metadata": {
        "id": "-dCgpF8odxVO"
      },
      "execution_count": 585,
      "outputs": []
    },
    {
      "cell_type": "markdown",
      "source": [
        "# All Unsupervised Algorithms"
      ],
      "metadata": {
        "id": "eYRod1M_QbBN"
      }
    },
    {
      "cell_type": "markdown",
      "source": [
        "## K-Means"
      ],
      "metadata": {
        "id": "M3Vxm3vhQg1W"
      }
    },
    {
      "cell_type": "code",
      "source": [
        "class K_means():\n",
        "    def _init_(self,X,K):       \n",
        "        self.X=X\n",
        "        self.K=K\n",
        "    \n",
        "    \n",
        "    \n",
        "    def kMeansInitCentroids(self,X, K):        \n",
        "         #centroids =np.zeros([K,X.shape[1]])\n",
        "        choices = np.random.choice(X.shape[0],size = K,replace=False)\n",
        "        centroids = X[choices,:]\n",
        "   \n",
        "        return centroids\n",
        "    \n",
        "    \n",
        "    \n",
        "    def computeCentroids(self,X, idx, K):  \n",
        "        centroids =np.zeros([K,X.shape[1]])  \n",
        "        for i in range(K):\n",
        "            count = 0\n",
        "            sumi = np.zeros(X.shape[1])\n",
        "            for j in range(len(idx)):\n",
        "                if idx[j]==i:\n",
        "                    sumi+=X[j,:]\n",
        "                    count+=1\n",
        "            centroids[i,:]=sumi/count\n",
        "        return centroids      \n",
        "         \n",
        "\n",
        "\n",
        "\n",
        "    def findClosestCentroids(self,X, centroids):     \n",
        "        #idx = np.array([X.shape[0],1])\n",
        "        idx = np.zeros(X.shape[0],dtype = int);\n",
        "        #idx = []\n",
        "        distance = 0\n",
        "        for i in range(len(X)):\n",
        "            minDistance = 0\n",
        "            for j in range(len(centroids)):\n",
        "                distance = sum((abs(X[i,:]-centroids[j,:]))**2)\n",
        "                #print(distance)\n",
        "                if j==0:\n",
        "                    minDistance =distance\n",
        "                    #print(minDistance)\n",
        "                    idx[i] = j\n",
        "            \n",
        "                else:\n",
        "                    if distance <minDistance:\n",
        "                        minDistance = distance\n",
        "                        idx[i] = j     \n",
        "        return idx\n"
      ],
      "metadata": {
        "id": "2Mcv2nqv5NMJ"
      },
      "execution_count": 586,
      "outputs": []
    },
    {
      "cell_type": "code",
      "source": [
        "# kmean = K_means()\n",
        "# centroids = kmean.kMeansInitCentroids(df_copy.values,3)\n",
        "# #print(centroids)\n",
        "# for i in range(100):\n",
        "#     idx = kmean.findClosestCentroids(df_copy.values,centroids)\n",
        "#     centroids = kmean.computeCentroids(df_copy.values,idx,3)\n",
        "# idxDF = pd.DataFrame(idx)\n",
        "# idxDF.value_counts()\n"
      ],
      "metadata": {
        "id": "hv3Ed0pQ5NHu"
      },
      "execution_count": 587,
      "outputs": []
    },
    {
      "cell_type": "code",
      "source": [
        "kmeans = KMeans(n_clusters=3, random_state=0,max_iter=100).fit(df_pca)\n",
        "y_kmeans =  kmeans.fit_predict(df_pca)\n",
        "kmeans.labels_\n",
        "kmeanDF = pd.DataFrame(kmeans.labels_)\n",
        "kmeanDF.value_counts()"
      ],
      "metadata": {
        "colab": {
          "base_uri": "https://localhost:8080/"
        },
        "id": "4leQrQO55WZJ",
        "outputId": "7fdc718e-e4fe-4c02-c72a-5c573be93f2a"
      },
      "execution_count": 588,
      "outputs": [
        {
          "output_type": "execute_result",
          "data": {
            "text/plain": [
              "1    8195\n",
              "0     731\n",
              "2      24\n",
              "dtype: int64"
            ]
          },
          "metadata": {},
          "execution_count": 588
        }
      ]
    },
    {
      "cell_type": "code",
      "source": [
        "distortions = []\n",
        "K = range(1,10)\n",
        "for k in K:\n",
        "    kmeanModel = KMeans(n_clusters=k)\n",
        "    kmeanModel.fit(df_pca)\n",
        "    distortions.append(kmeanModel.inertia_)\n",
        "plt.figure(figsize=(16,8))\n",
        "plt.plot(K, distortions, 'bx-')\n",
        "plt.xlabel('k')\n",
        "plt.ylabel('Distortion')\n",
        "plt.title('The Elbow Method showing the optimal k')\n",
        "plt.show()"
      ],
      "metadata": {
        "colab": {
          "base_uri": "https://localhost:8080/",
          "height": 518
        },
        "id": "t-kTCg-05ZD4",
        "outputId": "719c63e9-6fe9-4b7b-9ec0-3e7cff767364"
      },
      "execution_count": 589,
      "outputs": [
        {
          "output_type": "display_data",
          "data": {
            "text/plain": [
              "<Figure size 1152x576 with 1 Axes>"
            ],
            "image/png": "[encoded data removed]"
          },
          "metadata": {}
        }
      ]
    },
    {
      "cell_type": "code",
      "source": [
        "from scipy.spatial.distance import cdist\n",
        "distortions = []\n",
        "inertias = []\n",
        "mapping1 = {}\n",
        "mapping2 = {}\n",
        "K = range(1, 10)\n",
        " \n",
        "for k in K:\n",
        "    kmeanModel = KMeans(n_clusters=k).fit(df_pca)\n",
        "    kmeanModel.fit(df_pca)\n",
        " \n",
        "    distortions.append(sum(np.min(cdist(df_pca, kmeanModel.cluster_centers_,\n",
        "                                        'euclidean'), axis=1)) / df_pca.shape[0])\n",
        "    inertias.append(kmeanModel.inertia_)\n",
        " \n",
        "    mapping1[k] = sum(np.min(cdist(df_pca, kmeanModel.cluster_centers_,\n",
        "                                   'euclidean'), axis=1)) / df_pca.shape[0]\n",
        "    mapping2[k] = kmeanModel.inertia_"
      ],
      "metadata": {
        "id": "u9lY6teD5ch0"
      },
      "execution_count": 590,
      "outputs": []
    },
    {
      "cell_type": "code",
      "source": [
        "plt.plot(K, inertias, 'bx-')\n",
        "plt.xlabel('Values of K')\n",
        "plt.ylabel('Inertia')\n",
        "plt.title('The Elbow Method using Inertia')\n",
        "plt.show()"
      ],
      "metadata": {
        "colab": {
          "base_uri": "https://localhost:8080/",
          "height": 301
        },
        "id": "zPLhOAqM6JGX",
        "outputId": "4e4029b3-60a0-4c50-d8c3-9699babe2b95"
      },
      "execution_count": 591,
      "outputs": [
        {
          "output_type": "display_data",
          "data": {
            "text/plain": [
              "<Figure size 432x288 with 1 Axes>"
            ],
            "image/png": "[encoded data removed]"
          },
          "metadata": {}
        }
      ]
    },
    {
      "cell_type": "code",
      "source": [
        "kmeans = KMeans(n_clusters=3,random_state=23)\n",
        "kmeans.fit(df_pca)\n",
        "#y_kmeans =  kmeans.fit_predict(df_copy)"
      ],
      "metadata": {
        "colab": {
          "base_uri": "https://localhost:8080/"
        },
        "id": "kUAF-HnA8PJ2",
        "outputId": "adebd358-8a0d-45d5-a8c6-6dba7e9852e5"
      },
      "execution_count": 592,
      "outputs": [
        {
          "output_type": "execute_result",
          "data": {
            "text/plain": [
              "KMeans(n_clusters=3, random_state=23)"
            ]
          },
          "metadata": {},
          "execution_count": 592
        }
      ]
    },
    {
      "cell_type": "code",
      "source": [
        "kmeansKernel = KMeans(n_clusters=3,random_state=23)\n",
        "kmeansKernel.fit(df_ker_PCA)"
      ],
      "metadata": {
        "colab": {
          "base_uri": "https://localhost:8080/"
        },
        "id": "VH4j9ubab_V7",
        "outputId": "f597e97b-d575-425e-b0d5-f6698d88f3a1"
      },
      "execution_count": 593,
      "outputs": [
        {
          "output_type": "execute_result",
          "data": {
            "text/plain": [
              "KMeans(n_clusters=3, random_state=23)"
            ]
          },
          "metadata": {},
          "execution_count": 593
        }
      ]
    },
    {
      "cell_type": "code",
      "source": [
        "kmeansTSNE = KMeans(n_clusters=3,random_state=23)\n",
        "kmeansTSNE.fit(tsne_projection)"
      ],
      "metadata": {
        "colab": {
          "base_uri": "https://localhost:8080/"
        },
        "id": "LmOd4kb-eESU",
        "outputId": "c933e60e-9126-4020-cef3-9a6ff9ef80d3"
      },
      "execution_count": 594,
      "outputs": [
        {
          "output_type": "execute_result",
          "data": {
            "text/plain": [
              "KMeans(n_clusters=3, random_state=23)"
            ]
          },
          "metadata": {},
          "execution_count": 594
        }
      ]
    },
    {
      "cell_type": "code",
      "source": [
        "from sklearn.metrics import silhouette_score\n",
        "print('Silhoutte score of our model using PCA is ' + str(silhouette_score(df_pca, kmeans.labels_)))\n",
        "print('Silhoutte score of our model using Kernel PCA is ' + str(silhouette_score(df_ker_PCA, kmeansKernel.labels_)))\n",
        "print('Silhoutte score of our model using T-SNE is ' + str(silhouette_score(tsne_projection, kmeansTSNE.labels_)))"
      ],
      "metadata": {
        "colab": {
          "base_uri": "https://localhost:8080/"
        },
        "id": "eR_Xf4HF8iUF",
        "outputId": "61673ad3-f311-4a98-fef7-585c964d7fb6"
      },
      "execution_count": 595,
      "outputs": [
        {
          "output_type": "stream",
          "name": "stdout",
          "text": [
            "Silhoutte score of our model using PCA is 0.7983795956688682\n",
            "Silhoutte score of our model using Kernel PCA is 0.8239888904681106\n",
            "Silhoutte score of our model using T-SNE is 0.57672656\n"
          ]
        }
      ]
    },
    {
      "cell_type": "code",
      "source": [
        "kmeans.labels_\n",
        "kmeanDF = pd.DataFrame(kmeans.labels_)\n",
        "kmeanDF.value_counts()"
      ],
      "metadata": {
        "colab": {
          "base_uri": "https://localhost:8080/"
        },
        "id": "OwYOfG_zCVWU",
        "outputId": "74b2c16c-2abf-4b58-82c0-4a2f217236be"
      },
      "execution_count": 596,
      "outputs": [
        {
          "output_type": "execute_result",
          "data": {
            "text/plain": [
              "1    8195\n",
              "0     731\n",
              "2      24\n",
              "dtype: int64"
            ]
          },
          "metadata": {},
          "execution_count": 596
        }
      ]
    },
    {
      "cell_type": "code",
      "source": [
        "np.unique(y_kmeans)"
      ],
      "metadata": {
        "colab": {
          "base_uri": "https://localhost:8080/"
        },
        "id": "POqS6-LnCcwD",
        "outputId": "1dc7c1f4-8528-476e-d6c9-b7fcb5ccd0b6"
      },
      "execution_count": 597,
      "outputs": [
        {
          "output_type": "execute_result",
          "data": {
            "text/plain": [
              "array([0, 1, 2], dtype=int32)"
            ]
          },
          "metadata": {},
          "execution_count": 597
        }
      ]
    },
    {
      "cell_type": "code",
      "source": [
        "# import scipy.cluster.hierarchy as shc\n",
        "\n",
        "# plt.figure(figsize=(10, 7))\n",
        "# plt.title(\"Counters Dendograms\")\n",
        "# dend = shc.dendrogram(shc.linkage(y=df_pca , method=\"complete\",metric=\"euclidean\"),orientation='right') #fill y with your dataframe\n",
        "#                                                                                       #and method with linkage criteria\n",
        "#                                                                                       #and metric with distance function"
      ],
      "metadata": {
        "id": "GT3Mxz393_k-"
      },
      "execution_count": 598,
      "outputs": []
    },
    {
      "cell_type": "markdown",
      "source": [
        "## Agglomerative Clustering"
      ],
      "metadata": {
        "id": "1mmk-UDZ8_we"
      }
    },
    {
      "cell_type": "code",
      "source": [
        "hier_cluster_PCA = AgglomerativeClustering(n_clusters=3,linkage='complete')\n",
        "hier_clustering_PCA = hier_cluster_PCA.fit_predict(df_pca)"
      ],
      "metadata": {
        "id": "vcaH6qon-WWA"
      },
      "execution_count": 599,
      "outputs": []
    },
    {
      "cell_type": "code",
      "source": [
        "hier_cluster_KernelPCA = AgglomerativeClustering(n_clusters=3,linkage='complete')\n",
        "hier_clustering_KernelPCA = hier_cluster_KernelPCA.fit_predict(df_ker_PCA)\n"
      ],
      "metadata": {
        "id": "_idC0ThgSL6w"
      },
      "execution_count": 600,
      "outputs": []
    },
    {
      "cell_type": "code",
      "source": [
        "hier_cluster_TSNE = AgglomerativeClustering(n_clusters=3,linkage='complete')\n",
        "hier_clustering_TSNE = hier_cluster_TSNE.fit_predict(tsne_projection)"
      ],
      "metadata": {
        "id": "ReyROCHffxjN"
      },
      "execution_count": 601,
      "outputs": []
    },
    {
      "cell_type": "code",
      "source": [
        "print('Silhoutte score of our model using PCA is ' + str(silhouette_score(df_pca, hier_clustering_PCA)))\n",
        "print('Silhoutte score of our model using KenelPCA is ' + str(silhouette_score(df_ker_PCA, hier_clustering_KernelPCA)))\n",
        "print('Silhoutte score of our model using TSNE is ' + str(silhouette_score(tsne_projection, hier_clustering_TSNE)))\n"
      ],
      "metadata": {
        "colab": {
          "base_uri": "https://localhost:8080/"
        },
        "id": "6MfpiaHZgFb4",
        "outputId": "29fd8677-087e-4636-d94b-5a7140a40f12"
      },
      "execution_count": 602,
      "outputs": [
        {
          "output_type": "stream",
          "name": "stdout",
          "text": [
            "Silhoutte score of our model using PCA is 0.938015912929925\n",
            "Silhoutte score of our model using KenelPCA is 0.8223674165129162\n",
            "Silhoutte score of our model using TSNE is 0.57672656\n"
          ]
        }
      ]
    },
    {
      "cell_type": "markdown",
      "source": [
        "# DBSCAN"
      ],
      "metadata": {
        "id": "TGDLiLc_1UQG"
      }
    },
    {
      "cell_type": "code",
      "source": [
        "clustering_PCA = DBSCAN(eps=8, min_samples=4).fit(df_pca)"
      ],
      "metadata": {
        "id": "1bFo8DIz1Tj3"
      },
      "execution_count": 603,
      "outputs": []
    },
    {
      "cell_type": "code",
      "source": [
        "print('Silhoutte score of our model is ' + str(silhouette_score(df_pca, clustering_PCA.labels_)))"
      ],
      "metadata": {
        "colab": {
          "base_uri": "https://localhost:8080/"
        },
        "id": "ipHFO8Py22Gf",
        "outputId": "9237e337-4899-4798-fb48-b866b5524ac5"
      },
      "execution_count": 604,
      "outputs": [
        {
          "output_type": "stream",
          "name": "stdout",
          "text": [
            "Silhoutte score of our model is 0.4783163421452241\n"
          ]
        }
      ]
    },
    {
      "cell_type": "code",
      "source": [
        ""
      ],
      "metadata": {
        "id": "aPMcqi2J3Ve0"
      },
      "execution_count": 604,
      "outputs": []
    },
    {
      "cell_type": "markdown",
      "source": [
        "# EM"
      ],
      "metadata": {
        "id": "DNT4p0kNbikb"
      }
    },
    {
      "cell_type": "code",
      "source": [
        "from sklearn import mixture\n",
        "gmmPCA = mixture.GaussianMixture(n_components=2,covariance_type=\"full\",max_iter = 100,init_params=\"random\")\n",
        "gmmPCA.fit(df_pca)\n",
        "yClustPCA = gmmPCA.predict(df_pca)\n"
      ],
      "metadata": {
        "id": "DLRYD110iGRG"
      },
      "execution_count": 605,
      "outputs": []
    },
    {
      "cell_type": "code",
      "source": [
        "gmmKernPCA = mixture.GaussianMixture(n_components=2,covariance_type=\"full\",max_iter = 100,init_params=\"random\")\n",
        "gmmKernPCA.fit(df_ker_PCA)\n",
        "yClustKernPCA = gmmKernPCA.predict(df_ker_PCA)"
      ],
      "metadata": {
        "id": "kXau-Dkk2pL2"
      },
      "execution_count": 606,
      "outputs": []
    },
    {
      "cell_type": "code",
      "source": [
        "gmmTSNE = mixture.GaussianMixture(n_components=2,covariance_type=\"full\",max_iter = 100,init_params=\"random\")\n",
        "gmmTSNE.fit(tsne_projection)\n",
        "yClustTSNE = gmmTSNE.predict(tsne_projection)"
      ],
      "metadata": {
        "id": "g0FYkxmcnMBF"
      },
      "execution_count": 607,
      "outputs": []
    },
    {
      "cell_type": "code",
      "source": [
        "print('Silhoutte score of our model using PCA is ' + str(silhouette_score(df_pca,yClustPCA)))\n",
        "print('Silhoutte score of our model using Kernel PCA is ' + str(silhouette_score(df_ker_PCA,yClustKernPCA)))\n",
        "print('Silhoutte score of our model using TSNE is ' + str(silhouette_score(tsne_projection,yClustTSNE)))"
      ],
      "metadata": {
        "colab": {
          "base_uri": "https://localhost:8080/"
        },
        "id": "4WyMt-1Knydm",
        "outputId": "3887fa26-aaf3-499c-9d42-8e299eadb657"
      },
      "execution_count": 608,
      "outputs": [
        {
          "output_type": "stream",
          "name": "stdout",
          "text": [
            "Silhoutte score of our model using PCA is 0.5125503593091862\n",
            "Silhoutte score of our model using Kernel PCA is 0.7308047659951039\n",
            "Silhoutte score of our model using TSNE is 0.93669724\n"
          ]
        }
      ]
    },
    {
      "cell_type": "markdown",
      "source": [
        "# Isolation Random Forest"
      ],
      "metadata": {
        "id": "FB0br00UI_Me"
      }
    },
    {
      "cell_type": "code",
      "source": [
        "from sklearn.ensemble import IsolationForest\n",
        "model =  IsolationForest()\n",
        "model.fit(df_pca)\n",
        "df['anomaly25'] = pd.Series(model.predict(df_pca))\n",
        "df['anomaly25'] = df['anomaly25'].map( {1: 0, -1: 1} )\n",
        "print(df['anomaly25'].value_counts())"
      ],
      "metadata": {
        "colab": {
          "base_uri": "https://localhost:8080/"
        },
        "id": "XYrNo3KfLM4b",
        "outputId": "11f4bb0a-d169-42e7-f228-f665b6f9e87d"
      },
      "execution_count": 609,
      "outputs": [
        {
          "output_type": "stream",
          "name": "stdout",
          "text": [
            "0    7123\n",
            "1    1827\n",
            "Name: anomaly25, dtype: int64\n"
          ]
        }
      ]
    },
    {
      "cell_type": "code",
      "source": [
        "from sklearn.ensemble import IsolationForest\n",
        "model =  IsolationForest()\n",
        "model.fit(df_ker_PCA)\n",
        "df['anomaly26'] = pd.Series(model.predict(df_ker_PCA))\n",
        "df['anomaly26'] = df['anomaly26'].map( {1: 0, -1: 1} )\n",
        "print(df['anomaly26'].value_counts())"
      ],
      "metadata": {
        "colab": {
          "base_uri": "https://localhost:8080/"
        },
        "id": "mKhsWJNC6CAL",
        "outputId": "b1aabe78-445e-4a9b-bc9f-699df983a774"
      },
      "execution_count": 610,
      "outputs": [
        {
          "output_type": "stream",
          "name": "stdout",
          "text": [
            "0    7034\n",
            "1    1916\n",
            "Name: anomaly26, dtype: int64\n"
          ]
        }
      ]
    },
    {
      "cell_type": "code",
      "source": [
        "print('Silhoutte score of our model using PCA is ' + str(silhouette_score(df_pca,df['anomaly25'])))\n",
        "print('Silhoutte score of our model using kernel PCA is ' + str(silhouette_score(df_ker_PCA,df['anomaly26'])))\n"
      ],
      "metadata": {
        "colab": {
          "base_uri": "https://localhost:8080/"
        },
        "id": "EHlQcOoK1ful",
        "outputId": "81fc7750-18de-4090-b2da-ad9ceaae4f5b"
      },
      "execution_count": 611,
      "outputs": [
        {
          "output_type": "stream",
          "name": "stdout",
          "text": [
            "Silhoutte score of our model using PCA is 0.5072565002179541\n",
            "Silhoutte score of our model using kernel PCA is 0.5918908557388693\n"
          ]
        }
      ]
    }
  ]
}