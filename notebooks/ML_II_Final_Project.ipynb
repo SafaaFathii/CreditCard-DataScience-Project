{
  "nbformat": 4,
  "nbformat_minor": 0,
  "metadata": {
    "colab": {
      "name": "ML II Final Project.ipynb",
      "provenance": [],
      "authorship_tag": "ABX9TyMC8cTnT9Njd5Yman8r+29y",
      "include_colab_link": true
    },
    "kernelspec": {
      "name": "python3",
      "display_name": "Python 3"
    },
    "language_info": {
      "name": "python"
    }
  },
  "cells": [
    {
      "cell_type": "markdown",
      "metadata": {
        "id": "view-in-github",
        "colab_type": "text"
      },
      "source": [
        "<a href=\"https://colab.research.google.com/github/SafaaFathii/CreditCard-DataScience-Project/blob/main/notebooks/ML_II_Final_Project.ipynb\" target=\"_parent\"><img src=\"https://colab.research.google.com/assets/colab-badge.svg\" alt=\"Open In Colab\"/></a>"
      ]
    },
    {
      "cell_type": "code",
      "execution_count": 305,
      "metadata": {
        "id": "I_0EmayiDXvM"
      },
      "outputs": [],
      "source": [
        "import pandas as pd\n",
        "import numpy as np\n",
        "import matplotlib.pyplot as plt\n",
        "import pandas as pd\n",
        "import matplotlib.pyplot as plt\n",
        "import plotly.express as px\n",
        "from sklearn.cluster import KMeans\n",
        "from sklearn.cluster import DBSCAN\n",
        "from sklearn import metrics\n",
        "from scipy.spatial.distance import cdist\n",
        "from sklearn.metrics.cluster import rand_score\n",
        "from sklearn.manifold import TSNE\n",
        "from sklearn.cluster import AgglomerativeClustering\n",
        "from sklearn.metrics import silhouette_score\n",
        "from sklearn.metrics import calinski_harabasz_score\n",
        "from sklearn.metrics import davies_bouldin_score\n",
        "\n",
        "import matplotlib.pyplot as plt\n",
        " \n",
        "from sklearn.preprocessing import StandardScaler\n",
        "from sklearn.decomposition import PCA, KernelPCA\n",
        "from sklearn.preprocessing import QuantileTransformer\n",
        "\n",
        "from sklearn.utils import extmath\n",
        "import seaborn as sns\n",
        "sns.set()"
      ]
    },
    {
      "cell_type": "code",
      "source": [
        "DATA_PATH = \"https://raw.githubusercontent.com/SafaaFathii/CreditCard-DataScience-Project/main/src/data/CC%20GENERAL.csv\""
      ],
      "metadata": {
        "id": "x0sMgDqUD12r"
      },
      "execution_count": 249,
      "outputs": []
    },
    {
      "cell_type": "code",
      "source": [
        "df = pd.read_csv(DATA_PATH)\n",
        "df.drop(['CUST_ID'], axis=1, inplace=True)\n",
        "df.head()"
      ],
      "metadata": {
        "colab": {
          "base_uri": "https://localhost:8080/",
          "height": 270
        },
        "id": "CO1xf26XHeag",
        "outputId": "672588b9-8b0b-4c42-8f63-205024359b5d"
      },
      "execution_count": 250,
      "outputs": [
        {
          "output_type": "execute_result",
          "data": {
            "text/plain": [
              "       BALANCE  BALANCE_FREQUENCY  PURCHASES  ONEOFF_PURCHASES  \\\n",
              "0    40.900749           0.818182      95.40              0.00   \n",
              "1  3202.467416           0.909091       0.00              0.00   \n",
              "2  2495.148862           1.000000     773.17            773.17   \n",
              "3  1666.670542           0.636364    1499.00           1499.00   \n",
              "4   817.714335           1.000000      16.00             16.00   \n",
              "\n",
              "   INSTALLMENTS_PURCHASES  CASH_ADVANCE  PURCHASES_FREQUENCY  \\\n",
              "0                    95.4      0.000000             0.166667   \n",
              "1                     0.0   6442.945483             0.000000   \n",
              "2                     0.0      0.000000             1.000000   \n",
              "3                     0.0    205.788017             0.083333   \n",
              "4                     0.0      0.000000             0.083333   \n",
              "\n",
              "   ONEOFF_PURCHASES_FREQUENCY  PURCHASES_INSTALLMENTS_FREQUENCY  \\\n",
              "0                    0.000000                          0.083333   \n",
              "1                    0.000000                          0.000000   \n",
              "2                    1.000000                          0.000000   \n",
              "3                    0.083333                          0.000000   \n",
              "4                    0.083333                          0.000000   \n",
              "\n",
              "   CASH_ADVANCE_FREQUENCY  CASH_ADVANCE_TRX  PURCHASES_TRX  CREDIT_LIMIT  \\\n",
              "0                0.000000                 0              2        1000.0   \n",
              "1                0.250000                 4              0        7000.0   \n",
              "2                0.000000                 0             12        7500.0   \n",
              "3                0.083333                 1              1        7500.0   \n",
              "4                0.000000                 0              1        1200.0   \n",
              "\n",
              "      PAYMENTS  MINIMUM_PAYMENTS  PRC_FULL_PAYMENT  TENURE  \n",
              "0   201.802084        139.509787          0.000000      12  \n",
              "1  4103.032597       1072.340217          0.222222      12  \n",
              "2   622.066742        627.284787          0.000000      12  \n",
              "3     0.000000               NaN          0.000000      12  \n",
              "4   678.334763        244.791237          0.000000      12  "
            ],
            "text/html": [
              "\n",
              "  <div id=\"df-514367e3-b501-4f82-bd66-825d12e57a17\">\n",
              "    <div class=\"colab-df-container\">\n",
              "      <div>\n",
              "<style scoped>\n",
              "    .dataframe tbody tr th:only-of-type {\n",
              "        vertical-align: middle;\n",
              "    }\n",
              "\n",
              "    .dataframe tbody tr th {\n",
              "        vertical-align: top;\n",
              "    }\n",
              "\n",
              "    .dataframe thead th {\n",
              "        text-align: right;\n",
              "    }\n",
              "</style>\n",
              "<table border=\"1\" class=\"dataframe\">\n",
              "  <thead>\n",
              "    <tr style=\"text-align: right;\">\n",
              "      <th></th>\n",
              "      <th>BALANCE</th>\n",
              "      <th>BALANCE_FREQUENCY</th>\n",
              "      <th>PURCHASES</th>\n",
              "      <th>ONEOFF_PURCHASES</th>\n",
              "      <th>INSTALLMENTS_PURCHASES</th>\n",
              "      <th>CASH_ADVANCE</th>\n",
              "      <th>PURCHASES_FREQUENCY</th>\n",
              "      <th>ONEOFF_PURCHASES_FREQUENCY</th>\n",
              "      <th>PURCHASES_INSTALLMENTS_FREQUENCY</th>\n",
              "      <th>CASH_ADVANCE_FREQUENCY</th>\n",
              "      <th>CASH_ADVANCE_TRX</th>\n",
              "      <th>PURCHASES_TRX</th>\n",
              "      <th>CREDIT_LIMIT</th>\n",
              "      <th>PAYMENTS</th>\n",
              "      <th>MINIMUM_PAYMENTS</th>\n",
              "      <th>PRC_FULL_PAYMENT</th>\n",
              "      <th>TENURE</th>\n",
              "    </tr>\n",
              "  </thead>\n",
              "  <tbody>\n",
              "    <tr>\n",
              "      <th>0</th>\n",
              "      <td>40.900749</td>\n",
              "      <td>0.818182</td>\n",
              "      <td>95.40</td>\n",
              "      <td>0.00</td>\n",
              "      <td>95.4</td>\n",
              "      <td>0.000000</td>\n",
              "      <td>0.166667</td>\n",
              "      <td>0.000000</td>\n",
              "      <td>0.083333</td>\n",
              "      <td>0.000000</td>\n",
              "      <td>0</td>\n",
              "      <td>2</td>\n",
              "      <td>1000.0</td>\n",
              "      <td>201.802084</td>\n",
              "      <td>139.509787</td>\n",
              "      <td>0.000000</td>\n",
              "      <td>12</td>\n",
              "    </tr>\n",
              "    <tr>\n",
              "      <th>1</th>\n",
              "      <td>3202.467416</td>\n",
              "      <td>0.909091</td>\n",
              "      <td>0.00</td>\n",
              "      <td>0.00</td>\n",
              "      <td>0.0</td>\n",
              "      <td>6442.945483</td>\n",
              "      <td>0.000000</td>\n",
              "      <td>0.000000</td>\n",
              "      <td>0.000000</td>\n",
              "      <td>0.250000</td>\n",
              "      <td>4</td>\n",
              "      <td>0</td>\n",
              "      <td>7000.0</td>\n",
              "      <td>4103.032597</td>\n",
              "      <td>1072.340217</td>\n",
              "      <td>0.222222</td>\n",
              "      <td>12</td>\n",
              "    </tr>\n",
              "    <tr>\n",
              "      <th>2</th>\n",
              "      <td>2495.148862</td>\n",
              "      <td>1.000000</td>\n",
              "      <td>773.17</td>\n",
              "      <td>773.17</td>\n",
              "      <td>0.0</td>\n",
              "      <td>0.000000</td>\n",
              "      <td>1.000000</td>\n",
              "      <td>1.000000</td>\n",
              "      <td>0.000000</td>\n",
              "      <td>0.000000</td>\n",
              "      <td>0</td>\n",
              "      <td>12</td>\n",
              "      <td>7500.0</td>\n",
              "      <td>622.066742</td>\n",
              "      <td>627.284787</td>\n",
              "      <td>0.000000</td>\n",
              "      <td>12</td>\n",
              "    </tr>\n",
              "    <tr>\n",
              "      <th>3</th>\n",
              "      <td>1666.670542</td>\n",
              "      <td>0.636364</td>\n",
              "      <td>1499.00</td>\n",
              "      <td>1499.00</td>\n",
              "      <td>0.0</td>\n",
              "      <td>205.788017</td>\n",
              "      <td>0.083333</td>\n",
              "      <td>0.083333</td>\n",
              "      <td>0.000000</td>\n",
              "      <td>0.083333</td>\n",
              "      <td>1</td>\n",
              "      <td>1</td>\n",
              "      <td>7500.0</td>\n",
              "      <td>0.000000</td>\n",
              "      <td>NaN</td>\n",
              "      <td>0.000000</td>\n",
              "      <td>12</td>\n",
              "    </tr>\n",
              "    <tr>\n",
              "      <th>4</th>\n",
              "      <td>817.714335</td>\n",
              "      <td>1.000000</td>\n",
              "      <td>16.00</td>\n",
              "      <td>16.00</td>\n",
              "      <td>0.0</td>\n",
              "      <td>0.000000</td>\n",
              "      <td>0.083333</td>\n",
              "      <td>0.083333</td>\n",
              "      <td>0.000000</td>\n",
              "      <td>0.000000</td>\n",
              "      <td>0</td>\n",
              "      <td>1</td>\n",
              "      <td>1200.0</td>\n",
              "      <td>678.334763</td>\n",
              "      <td>244.791237</td>\n",
              "      <td>0.000000</td>\n",
              "      <td>12</td>\n",
              "    </tr>\n",
              "  </tbody>\n",
              "</table>\n",
              "</div>\n",
              "      <button class=\"colab-df-convert\" onclick=\"convertToInteractive('df-514367e3-b501-4f82-bd66-825d12e57a17')\"\n",
              "              title=\"Convert this dataframe to an interactive table.\"\n",
              "              style=\"display:none;\">\n",
              "        \n",
              "  <svg xmlns=\"http://www.w3.org/2000/svg\" height=\"24px\"viewBox=\"0 0 24 24\"\n",
              "       width=\"24px\">\n",
              "    <path d=\"M0 0h24v24H0V0z\" fill=\"none\"/>\n",
              "    <path d=\"M18.56 5.44l.94 2.06.94-2.06 2.06-.94-2.06-.94-.94-2.06-.94 2.06-2.06.94zm-11 1L8.5 8.5l.94-2.06 2.06-.94-2.06-.94L8.5 2.5l-.94 2.06-2.06.94zm10 10l.94 2.06.94-2.06 2.06-.94-2.06-.94-.94-2.06-.94 2.06-2.06.94z\"/><path d=\"M17.41 7.96l-1.37-1.37c-.4-.4-.92-.59-1.43-.59-.52 0-1.04.2-1.43.59L10.3 9.45l-7.72 7.72c-.78.78-.78 2.05 0 2.83L4 21.41c.39.39.9.59 1.41.59.51 0 1.02-.2 1.41-.59l7.78-7.78 2.81-2.81c.8-.78.8-2.07 0-2.86zM5.41 20L4 18.59l7.72-7.72 1.47 1.35L5.41 20z\"/>\n",
              "  </svg>\n",
              "      </button>\n",
              "      \n",
              "  <style>\n",
              "    .colab-df-container {\n",
              "      display:flex;\n",
              "      flex-wrap:wrap;\n",
              "      gap: 12px;\n",
              "    }\n",
              "\n",
              "    .colab-df-convert {\n",
              "      background-color: #E8F0FE;\n",
              "      border: none;\n",
              "      border-radius: 50%;\n",
              "      cursor: pointer;\n",
              "      display: none;\n",
              "      fill: #1967D2;\n",
              "      height: 32px;\n",
              "      padding: 0 0 0 0;\n",
              "      width: 32px;\n",
              "    }\n",
              "\n",
              "    .colab-df-convert:hover {\n",
              "      background-color: #E2EBFA;\n",
              "      box-shadow: 0px 1px 2px rgba(60, 64, 67, 0.3), 0px 1px 3px 1px rgba(60, 64, 67, 0.15);\n",
              "      fill: #174EA6;\n",
              "    }\n",
              "\n",
              "    [theme=dark] .colab-df-convert {\n",
              "      background-color: #3B4455;\n",
              "      fill: #D2E3FC;\n",
              "    }\n",
              "\n",
              "    [theme=dark] .colab-df-convert:hover {\n",
              "      background-color: #434B5C;\n",
              "      box-shadow: 0px 1px 3px 1px rgba(0, 0, 0, 0.15);\n",
              "      filter: drop-shadow(0px 1px 2px rgba(0, 0, 0, 0.3));\n",
              "      fill: #FFFFFF;\n",
              "    }\n",
              "  </style>\n",
              "\n",
              "      <script>\n",
              "        const buttonEl =\n",
              "          document.querySelector('#df-514367e3-b501-4f82-bd66-825d12e57a17 button.colab-df-convert');\n",
              "        buttonEl.style.display =\n",
              "          google.colab.kernel.accessAllowed ? 'block' : 'none';\n",
              "\n",
              "        async function convertToInteractive(key) {\n",
              "          const element = document.querySelector('#df-514367e3-b501-4f82-bd66-825d12e57a17');\n",
              "          const dataTable =\n",
              "            await google.colab.kernel.invokeFunction('convertToInteractive',\n",
              "                                                     [key], {});\n",
              "          if (!dataTable) return;\n",
              "\n",
              "          const docLinkHtml = 'Like what you see? Visit the ' +\n",
              "            '<a target=\"_blank\" href=https://colab.research.google.com/notebooks/data_table.ipynb>data table notebook</a>'\n",
              "            + ' to learn more about interactive tables.';\n",
              "          element.innerHTML = '';\n",
              "          dataTable['output_type'] = 'display_data';\n",
              "          await google.colab.output.renderOutput(dataTable, element);\n",
              "          const docLink = document.createElement('div');\n",
              "          docLink.innerHTML = docLinkHtml;\n",
              "          element.appendChild(docLink);\n",
              "        }\n",
              "      </script>\n",
              "    </div>\n",
              "  </div>\n",
              "  "
            ]
          },
          "metadata": {},
          "execution_count": 250
        }
      ]
    },
    {
      "cell_type": "markdown",
      "source": [
        "\n",
        "\n",
        "---\n",
        "\n",
        "\n",
        "\n",
        "---\n",
        "\n"
      ],
      "metadata": {
        "id": "qAMkzHuEJc8L"
      }
    },
    {
      "cell_type": "markdown",
      "source": [
        "# Data Exploration\n",
        "\n"
      ],
      "metadata": {
        "id": "SgleMNBZJO4S"
      }
    },
    {
      "cell_type": "code",
      "source": [
        "df.shape"
      ],
      "metadata": {
        "colab": {
          "base_uri": "https://localhost:8080/"
        },
        "id": "tjJMpUv1Hqlx",
        "outputId": "16a68470-62e8-4964-b426-734eaeda5f1d"
      },
      "execution_count": 251,
      "outputs": [
        {
          "output_type": "execute_result",
          "data": {
            "text/plain": [
              "(8950, 17)"
            ]
          },
          "metadata": {},
          "execution_count": 251
        }
      ]
    },
    {
      "cell_type": "code",
      "source": [
        "df.describe()"
      ],
      "metadata": {
        "colab": {
          "base_uri": "https://localhost:8080/",
          "height": 364
        },
        "id": "Y9hMC9cdILEn",
        "outputId": "cf945cea-3b2f-4f29-fe22-da150cc42ea9"
      },
      "execution_count": 252,
      "outputs": [
        {
          "output_type": "execute_result",
          "data": {
            "text/plain": [
              "            BALANCE  BALANCE_FREQUENCY     PURCHASES  ONEOFF_PURCHASES  \\\n",
              "count   8950.000000        8950.000000   8950.000000       8950.000000   \n",
              "mean    1564.474828           0.877271   1003.204834        592.437371   \n",
              "std     2081.531879           0.236904   2136.634782       1659.887917   \n",
              "min        0.000000           0.000000      0.000000          0.000000   \n",
              "25%      128.281915           0.888889     39.635000          0.000000   \n",
              "50%      873.385231           1.000000    361.280000         38.000000   \n",
              "75%     2054.140036           1.000000   1110.130000        577.405000   \n",
              "max    19043.138560           1.000000  49039.570000      40761.250000   \n",
              "\n",
              "       INSTALLMENTS_PURCHASES  CASH_ADVANCE  PURCHASES_FREQUENCY  \\\n",
              "count             8950.000000   8950.000000          8950.000000   \n",
              "mean               411.067645    978.871112             0.490351   \n",
              "std                904.338115   2097.163877             0.401371   \n",
              "min                  0.000000      0.000000             0.000000   \n",
              "25%                  0.000000      0.000000             0.083333   \n",
              "50%                 89.000000      0.000000             0.500000   \n",
              "75%                468.637500   1113.821139             0.916667   \n",
              "max              22500.000000  47137.211760             1.000000   \n",
              "\n",
              "       ONEOFF_PURCHASES_FREQUENCY  PURCHASES_INSTALLMENTS_FREQUENCY  \\\n",
              "count                 8950.000000                       8950.000000   \n",
              "mean                     0.202458                          0.364437   \n",
              "std                      0.298336                          0.397448   \n",
              "min                      0.000000                          0.000000   \n",
              "25%                      0.000000                          0.000000   \n",
              "50%                      0.083333                          0.166667   \n",
              "75%                      0.300000                          0.750000   \n",
              "max                      1.000000                          1.000000   \n",
              "\n",
              "       CASH_ADVANCE_FREQUENCY  CASH_ADVANCE_TRX  PURCHASES_TRX  CREDIT_LIMIT  \\\n",
              "count             8950.000000       8950.000000    8950.000000   8949.000000   \n",
              "mean                 0.135144          3.248827      14.709832   4494.449450   \n",
              "std                  0.200121          6.824647      24.857649   3638.815725   \n",
              "min                  0.000000          0.000000       0.000000     50.000000   \n",
              "25%                  0.000000          0.000000       1.000000   1600.000000   \n",
              "50%                  0.000000          0.000000       7.000000   3000.000000   \n",
              "75%                  0.222222          4.000000      17.000000   6500.000000   \n",
              "max                  1.500000        123.000000     358.000000  30000.000000   \n",
              "\n",
              "           PAYMENTS  MINIMUM_PAYMENTS  PRC_FULL_PAYMENT       TENURE  \n",
              "count   8950.000000       8637.000000       8950.000000  8950.000000  \n",
              "mean    1733.143852        864.206542          0.153715    11.517318  \n",
              "std     2895.063757       2372.446607          0.292499     1.338331  \n",
              "min        0.000000          0.019163          0.000000     6.000000  \n",
              "25%      383.276166        169.123707          0.000000    12.000000  \n",
              "50%      856.901546        312.343947          0.000000    12.000000  \n",
              "75%     1901.134317        825.485459          0.142857    12.000000  \n",
              "max    50721.483360      76406.207520          1.000000    12.000000  "
            ],
            "text/html": [
              "\n",
              "  <div id=\"df-515c4742-f228-4cec-ba9b-9543bb6ec0d8\">\n",
              "    <div class=\"colab-df-container\">\n",
              "      <div>\n",
              "<style scoped>\n",
              "    .dataframe tbody tr th:only-of-type {\n",
              "        vertical-align: middle;\n",
              "    }\n",
              "\n",
              "    .dataframe tbody tr th {\n",
              "        vertical-align: top;\n",
              "    }\n",
              "\n",
              "    .dataframe thead th {\n",
              "        text-align: right;\n",
              "    }\n",
              "</style>\n",
              "<table border=\"1\" class=\"dataframe\">\n",
              "  <thead>\n",
              "    <tr style=\"text-align: right;\">\n",
              "      <th></th>\n",
              "      <th>BALANCE</th>\n",
              "      <th>BALANCE_FREQUENCY</th>\n",
              "      <th>PURCHASES</th>\n",
              "      <th>ONEOFF_PURCHASES</th>\n",
              "      <th>INSTALLMENTS_PURCHASES</th>\n",
              "      <th>CASH_ADVANCE</th>\n",
              "      <th>PURCHASES_FREQUENCY</th>\n",
              "      <th>ONEOFF_PURCHASES_FREQUENCY</th>\n",
              "      <th>PURCHASES_INSTALLMENTS_FREQUENCY</th>\n",
              "      <th>CASH_ADVANCE_FREQUENCY</th>\n",
              "      <th>CASH_ADVANCE_TRX</th>\n",
              "      <th>PURCHASES_TRX</th>\n",
              "      <th>CREDIT_LIMIT</th>\n",
              "      <th>PAYMENTS</th>\n",
              "      <th>MINIMUM_PAYMENTS</th>\n",
              "      <th>PRC_FULL_PAYMENT</th>\n",
              "      <th>TENURE</th>\n",
              "    </tr>\n",
              "  </thead>\n",
              "  <tbody>\n",
              "    <tr>\n",
              "      <th>count</th>\n",
              "      <td>8950.000000</td>\n",
              "      <td>8950.000000</td>\n",
              "      <td>8950.000000</td>\n",
              "      <td>8950.000000</td>\n",
              "      <td>8950.000000</td>\n",
              "      <td>8950.000000</td>\n",
              "      <td>8950.000000</td>\n",
              "      <td>8950.000000</td>\n",
              "      <td>8950.000000</td>\n",
              "      <td>8950.000000</td>\n",
              "      <td>8950.000000</td>\n",
              "      <td>8950.000000</td>\n",
              "      <td>8949.000000</td>\n",
              "      <td>8950.000000</td>\n",
              "      <td>8637.000000</td>\n",
              "      <td>8950.000000</td>\n",
              "      <td>8950.000000</td>\n",
              "    </tr>\n",
              "    <tr>\n",
              "      <th>mean</th>\n",
              "      <td>1564.474828</td>\n",
              "      <td>0.877271</td>\n",
              "      <td>1003.204834</td>\n",
              "      <td>592.437371</td>\n",
              "      <td>411.067645</td>\n",
              "      <td>978.871112</td>\n",
              "      <td>0.490351</td>\n",
              "      <td>0.202458</td>\n",
              "      <td>0.364437</td>\n",
              "      <td>0.135144</td>\n",
              "      <td>3.248827</td>\n",
              "      <td>14.709832</td>\n",
              "      <td>4494.449450</td>\n",
              "      <td>1733.143852</td>\n",
              "      <td>864.206542</td>\n",
              "      <td>0.153715</td>\n",
              "      <td>11.517318</td>\n",
              "    </tr>\n",
              "    <tr>\n",
              "      <th>std</th>\n",
              "      <td>2081.531879</td>\n",
              "      <td>0.236904</td>\n",
              "      <td>2136.634782</td>\n",
              "      <td>1659.887917</td>\n",
              "      <td>904.338115</td>\n",
              "      <td>2097.163877</td>\n",
              "      <td>0.401371</td>\n",
              "      <td>0.298336</td>\n",
              "      <td>0.397448</td>\n",
              "      <td>0.200121</td>\n",
              "      <td>6.824647</td>\n",
              "      <td>24.857649</td>\n",
              "      <td>3638.815725</td>\n",
              "      <td>2895.063757</td>\n",
              "      <td>2372.446607</td>\n",
              "      <td>0.292499</td>\n",
              "      <td>1.338331</td>\n",
              "    </tr>\n",
              "    <tr>\n",
              "      <th>min</th>\n",
              "      <td>0.000000</td>\n",
              "      <td>0.000000</td>\n",
              "      <td>0.000000</td>\n",
              "      <td>0.000000</td>\n",
              "      <td>0.000000</td>\n",
              "      <td>0.000000</td>\n",
              "      <td>0.000000</td>\n",
              "      <td>0.000000</td>\n",
              "      <td>0.000000</td>\n",
              "      <td>0.000000</td>\n",
              "      <td>0.000000</td>\n",
              "      <td>0.000000</td>\n",
              "      <td>50.000000</td>\n",
              "      <td>0.000000</td>\n",
              "      <td>0.019163</td>\n",
              "      <td>0.000000</td>\n",
              "      <td>6.000000</td>\n",
              "    </tr>\n",
              "    <tr>\n",
              "      <th>25%</th>\n",
              "      <td>128.281915</td>\n",
              "      <td>0.888889</td>\n",
              "      <td>39.635000</td>\n",
              "      <td>0.000000</td>\n",
              "      <td>0.000000</td>\n",
              "      <td>0.000000</td>\n",
              "      <td>0.083333</td>\n",
              "      <td>0.000000</td>\n",
              "      <td>0.000000</td>\n",
              "      <td>0.000000</td>\n",
              "      <td>0.000000</td>\n",
              "      <td>1.000000</td>\n",
              "      <td>1600.000000</td>\n",
              "      <td>383.276166</td>\n",
              "      <td>169.123707</td>\n",
              "      <td>0.000000</td>\n",
              "      <td>12.000000</td>\n",
              "    </tr>\n",
              "    <tr>\n",
              "      <th>50%</th>\n",
              "      <td>873.385231</td>\n",
              "      <td>1.000000</td>\n",
              "      <td>361.280000</td>\n",
              "      <td>38.000000</td>\n",
              "      <td>89.000000</td>\n",
              "      <td>0.000000</td>\n",
              "      <td>0.500000</td>\n",
              "      <td>0.083333</td>\n",
              "      <td>0.166667</td>\n",
              "      <td>0.000000</td>\n",
              "      <td>0.000000</td>\n",
              "      <td>7.000000</td>\n",
              "      <td>3000.000000</td>\n",
              "      <td>856.901546</td>\n",
              "      <td>312.343947</td>\n",
              "      <td>0.000000</td>\n",
              "      <td>12.000000</td>\n",
              "    </tr>\n",
              "    <tr>\n",
              "      <th>75%</th>\n",
              "      <td>2054.140036</td>\n",
              "      <td>1.000000</td>\n",
              "      <td>1110.130000</td>\n",
              "      <td>577.405000</td>\n",
              "      <td>468.637500</td>\n",
              "      <td>1113.821139</td>\n",
              "      <td>0.916667</td>\n",
              "      <td>0.300000</td>\n",
              "      <td>0.750000</td>\n",
              "      <td>0.222222</td>\n",
              "      <td>4.000000</td>\n",
              "      <td>17.000000</td>\n",
              "      <td>6500.000000</td>\n",
              "      <td>1901.134317</td>\n",
              "      <td>825.485459</td>\n",
              "      <td>0.142857</td>\n",
              "      <td>12.000000</td>\n",
              "    </tr>\n",
              "    <tr>\n",
              "      <th>max</th>\n",
              "      <td>19043.138560</td>\n",
              "      <td>1.000000</td>\n",
              "      <td>49039.570000</td>\n",
              "      <td>40761.250000</td>\n",
              "      <td>22500.000000</td>\n",
              "      <td>47137.211760</td>\n",
              "      <td>1.000000</td>\n",
              "      <td>1.000000</td>\n",
              "      <td>1.000000</td>\n",
              "      <td>1.500000</td>\n",
              "      <td>123.000000</td>\n",
              "      <td>358.000000</td>\n",
              "      <td>30000.000000</td>\n",
              "      <td>50721.483360</td>\n",
              "      <td>76406.207520</td>\n",
              "      <td>1.000000</td>\n",
              "      <td>12.000000</td>\n",
              "    </tr>\n",
              "  </tbody>\n",
              "</table>\n",
              "</div>\n",
              "      <button class=\"colab-df-convert\" onclick=\"convertToInteractive('df-515c4742-f228-4cec-ba9b-9543bb6ec0d8')\"\n",
              "              title=\"Convert this dataframe to an interactive table.\"\n",
              "              style=\"display:none;\">\n",
              "        \n",
              "  <svg xmlns=\"http://www.w3.org/2000/svg\" height=\"24px\"viewBox=\"0 0 24 24\"\n",
              "       width=\"24px\">\n",
              "    <path d=\"M0 0h24v24H0V0z\" fill=\"none\"/>\n",
              "    <path d=\"M18.56 5.44l.94 2.06.94-2.06 2.06-.94-2.06-.94-.94-2.06-.94 2.06-2.06.94zm-11 1L8.5 8.5l.94-2.06 2.06-.94-2.06-.94L8.5 2.5l-.94 2.06-2.06.94zm10 10l.94 2.06.94-2.06 2.06-.94-2.06-.94-.94-2.06-.94 2.06-2.06.94z\"/><path d=\"M17.41 7.96l-1.37-1.37c-.4-.4-.92-.59-1.43-.59-.52 0-1.04.2-1.43.59L10.3 9.45l-7.72 7.72c-.78.78-.78 2.05 0 2.83L4 21.41c.39.39.9.59 1.41.59.51 0 1.02-.2 1.41-.59l7.78-7.78 2.81-2.81c.8-.78.8-2.07 0-2.86zM5.41 20L4 18.59l7.72-7.72 1.47 1.35L5.41 20z\"/>\n",
              "  </svg>\n",
              "      </button>\n",
              "      \n",
              "  <style>\n",
              "    .colab-df-container {\n",
              "      display:flex;\n",
              "      flex-wrap:wrap;\n",
              "      gap: 12px;\n",
              "    }\n",
              "\n",
              "    .colab-df-convert {\n",
              "      background-color: #E8F0FE;\n",
              "      border: none;\n",
              "      border-radius: 50%;\n",
              "      cursor: pointer;\n",
              "      display: none;\n",
              "      fill: #1967D2;\n",
              "      height: 32px;\n",
              "      padding: 0 0 0 0;\n",
              "      width: 32px;\n",
              "    }\n",
              "\n",
              "    .colab-df-convert:hover {\n",
              "      background-color: #E2EBFA;\n",
              "      box-shadow: 0px 1px 2px rgba(60, 64, 67, 0.3), 0px 1px 3px 1px rgba(60, 64, 67, 0.15);\n",
              "      fill: #174EA6;\n",
              "    }\n",
              "\n",
              "    [theme=dark] .colab-df-convert {\n",
              "      background-color: #3B4455;\n",
              "      fill: #D2E3FC;\n",
              "    }\n",
              "\n",
              "    [theme=dark] .colab-df-convert:hover {\n",
              "      background-color: #434B5C;\n",
              "      box-shadow: 0px 1px 3px 1px rgba(0, 0, 0, 0.15);\n",
              "      filter: drop-shadow(0px 1px 2px rgba(0, 0, 0, 0.3));\n",
              "      fill: #FFFFFF;\n",
              "    }\n",
              "  </style>\n",
              "\n",
              "      <script>\n",
              "        const buttonEl =\n",
              "          document.querySelector('#df-515c4742-f228-4cec-ba9b-9543bb6ec0d8 button.colab-df-convert');\n",
              "        buttonEl.style.display =\n",
              "          google.colab.kernel.accessAllowed ? 'block' : 'none';\n",
              "\n",
              "        async function convertToInteractive(key) {\n",
              "          const element = document.querySelector('#df-515c4742-f228-4cec-ba9b-9543bb6ec0d8');\n",
              "          const dataTable =\n",
              "            await google.colab.kernel.invokeFunction('convertToInteractive',\n",
              "                                                     [key], {});\n",
              "          if (!dataTable) return;\n",
              "\n",
              "          const docLinkHtml = 'Like what you see? Visit the ' +\n",
              "            '<a target=\"_blank\" href=https://colab.research.google.com/notebooks/data_table.ipynb>data table notebook</a>'\n",
              "            + ' to learn more about interactive tables.';\n",
              "          element.innerHTML = '';\n",
              "          dataTable['output_type'] = 'display_data';\n",
              "          await google.colab.output.renderOutput(dataTable, element);\n",
              "          const docLink = document.createElement('div');\n",
              "          docLink.innerHTML = docLinkHtml;\n",
              "          element.appendChild(docLink);\n",
              "        }\n",
              "      </script>\n",
              "    </div>\n",
              "  </div>\n",
              "  "
            ]
          },
          "metadata": {},
          "execution_count": 252
        }
      ]
    },
    {
      "cell_type": "code",
      "source": [
        "df.info()"
      ],
      "metadata": {
        "colab": {
          "base_uri": "https://localhost:8080/"
        },
        "id": "wrXWEUAVI8hH",
        "outputId": "6a199c0d-56e4-436e-a7c2-ddc36baa43ae"
      },
      "execution_count": 253,
      "outputs": [
        {
          "output_type": "stream",
          "name": "stdout",
          "text": [
            "<class 'pandas.core.frame.DataFrame'>\n",
            "RangeIndex: 8950 entries, 0 to 8949\n",
            "Data columns (total 17 columns):\n",
            " #   Column                            Non-Null Count  Dtype  \n",
            "---  ------                            --------------  -----  \n",
            " 0   BALANCE                           8950 non-null   float64\n",
            " 1   BALANCE_FREQUENCY                 8950 non-null   float64\n",
            " 2   PURCHASES                         8950 non-null   float64\n",
            " 3   ONEOFF_PURCHASES                  8950 non-null   float64\n",
            " 4   INSTALLMENTS_PURCHASES            8950 non-null   float64\n",
            " 5   CASH_ADVANCE                      8950 non-null   float64\n",
            " 6   PURCHASES_FREQUENCY               8950 non-null   float64\n",
            " 7   ONEOFF_PURCHASES_FREQUENCY        8950 non-null   float64\n",
            " 8   PURCHASES_INSTALLMENTS_FREQUENCY  8950 non-null   float64\n",
            " 9   CASH_ADVANCE_FREQUENCY            8950 non-null   float64\n",
            " 10  CASH_ADVANCE_TRX                  8950 non-null   int64  \n",
            " 11  PURCHASES_TRX                     8950 non-null   int64  \n",
            " 12  CREDIT_LIMIT                      8949 non-null   float64\n",
            " 13  PAYMENTS                          8950 non-null   float64\n",
            " 14  MINIMUM_PAYMENTS                  8637 non-null   float64\n",
            " 15  PRC_FULL_PAYMENT                  8950 non-null   float64\n",
            " 16  TENURE                            8950 non-null   int64  \n",
            "dtypes: float64(14), int64(3)\n",
            "memory usage: 1.2 MB\n"
          ]
        }
      ]
    },
    {
      "cell_type": "code",
      "source": [
        "df.isnull().sum()"
      ],
      "metadata": {
        "colab": {
          "base_uri": "https://localhost:8080/"
        },
        "id": "0sEzaZT7I-AW",
        "outputId": "020c2d6c-939c-4011-8167-2e783c824085"
      },
      "execution_count": 254,
      "outputs": [
        {
          "output_type": "execute_result",
          "data": {
            "text/plain": [
              "BALANCE                               0\n",
              "BALANCE_FREQUENCY                     0\n",
              "PURCHASES                             0\n",
              "ONEOFF_PURCHASES                      0\n",
              "INSTALLMENTS_PURCHASES                0\n",
              "CASH_ADVANCE                          0\n",
              "PURCHASES_FREQUENCY                   0\n",
              "ONEOFF_PURCHASES_FREQUENCY            0\n",
              "PURCHASES_INSTALLMENTS_FREQUENCY      0\n",
              "CASH_ADVANCE_FREQUENCY                0\n",
              "CASH_ADVANCE_TRX                      0\n",
              "PURCHASES_TRX                         0\n",
              "CREDIT_LIMIT                          1\n",
              "PAYMENTS                              0\n",
              "MINIMUM_PAYMENTS                    313\n",
              "PRC_FULL_PAYMENT                      0\n",
              "TENURE                                0\n",
              "dtype: int64"
            ]
          },
          "metadata": {},
          "execution_count": 254
        }
      ]
    },
    {
      "cell_type": "code",
      "source": [
        "df.hist(bins = 50,figsize = (20,15))"
      ],
      "metadata": {
        "colab": {
          "base_uri": "https://localhost:8080/",
          "height": 1000
        },
        "id": "JSP_6DSnLT6h",
        "outputId": "4c2e0b79-2846-4b27-a9cd-efd5dfcdbace"
      },
      "execution_count": 255,
      "outputs": [
        {
          "output_type": "execute_result",
          "data": {
            "text/plain": [
              "array([[<matplotlib.axes._subplots.AxesSubplot object at 0x7fafe9e8d190>,\n",
              "        <matplotlib.axes._subplots.AxesSubplot object at 0x7fafe9e79590>,\n",
              "        <matplotlib.axes._subplots.AxesSubplot object at 0x7fafe9ea70d0>,\n",
              "        <matplotlib.axes._subplots.AxesSubplot object at 0x7fafe9e19650>],\n",
              "       [<matplotlib.axes._subplots.AxesSubplot object at 0x7fafe9dd6290>,\n",
              "        <matplotlib.axes._subplots.AxesSubplot object at 0x7fafe9e0c790>,\n",
              "        <matplotlib.axes._subplots.AxesSubplot object at 0x7fafe9dc1d10>,\n",
              "        <matplotlib.axes._subplots.AxesSubplot object at 0x7fafe9d86190>],\n",
              "       [<matplotlib.axes._subplots.AxesSubplot object at 0x7fafe9d861d0>,\n",
              "        <matplotlib.axes._subplots.AxesSubplot object at 0x7fafe9d3c790>,\n",
              "        <matplotlib.axes._subplots.AxesSubplot object at 0x7fafe9cb8110>,\n",
              "        <matplotlib.axes._subplots.AxesSubplot object at 0x7fafe9c6d610>],\n",
              "       [<matplotlib.axes._subplots.AxesSubplot object at 0x7fafe9c23b10>,\n",
              "        <matplotlib.axes._subplots.AxesSubplot object at 0x7fafe9bdafd0>,\n",
              "        <matplotlib.axes._subplots.AxesSubplot object at 0x7fafe9b9d550>,\n",
              "        <matplotlib.axes._subplots.AxesSubplot object at 0x7fafe9bd3a50>],\n",
              "       [<matplotlib.axes._subplots.AxesSubplot object at 0x7fafe9b8af50>,\n",
              "        <matplotlib.axes._subplots.AxesSubplot object at 0x7fafe9b4d490>,\n",
              "        <matplotlib.axes._subplots.AxesSubplot object at 0x7fafe9b02990>,\n",
              "        <matplotlib.axes._subplots.AxesSubplot object at 0x7fafe9abae90>]],\n",
              "      dtype=object)"
            ]
          },
          "metadata": {},
          "execution_count": 255
        },
        {
          "output_type": "display_data",
          "data": {
            "text/plain": [
              "<Figure size 1440x1080 with 20 Axes>"
            ],
            "image/png": "[encoded data removed]"
          },
          "metadata": {}
        }
      ]
    },
    {
      "cell_type": "code",
      "source": [
        "df.skew()"
      ],
      "metadata": {
        "colab": {
          "base_uri": "https://localhost:8080/"
        },
        "id": "dWfbX1dC5q1m",
        "outputId": "5a87fcac-c166-4f25-f895-817d6330e417"
      },
      "execution_count": 256,
      "outputs": [
        {
          "output_type": "execute_result",
          "data": {
            "text/plain": [
              "BALANCE                              2.393386\n",
              "BALANCE_FREQUENCY                   -2.023266\n",
              "PURCHASES                            8.144269\n",
              "ONEOFF_PURCHASES                    10.045083\n",
              "INSTALLMENTS_PURCHASES               7.299120\n",
              "CASH_ADVANCE                         5.166609\n",
              "PURCHASES_FREQUENCY                  0.060164\n",
              "ONEOFF_PURCHASES_FREQUENCY           1.535613\n",
              "PURCHASES_INSTALLMENTS_FREQUENCY     0.509201\n",
              "CASH_ADVANCE_FREQUENCY               1.828686\n",
              "CASH_ADVANCE_TRX                     5.721298\n",
              "PURCHASES_TRX                        4.630655\n",
              "CREDIT_LIMIT                         1.522464\n",
              "PAYMENTS                             5.907620\n",
              "MINIMUM_PAYMENTS                    13.622797\n",
              "PRC_FULL_PAYMENT                     1.942820\n",
              "TENURE                              -2.943017\n",
              "dtype: float64"
            ]
          },
          "metadata": {},
          "execution_count": 256
        }
      ]
    },
    {
      "cell_type": "code",
      "source": [
        "df.nunique()"
      ],
      "metadata": {
        "id": "bKEwudRl8lpy",
        "outputId": "5b593aec-3aab-4e6c-a22d-12777323d834",
        "colab": {
          "base_uri": "https://localhost:8080/"
        }
      },
      "execution_count": 257,
      "outputs": [
        {
          "output_type": "execute_result",
          "data": {
            "text/plain": [
              "BALANCE                             8871\n",
              "BALANCE_FREQUENCY                     43\n",
              "PURCHASES                           6203\n",
              "ONEOFF_PURCHASES                    4014\n",
              "INSTALLMENTS_PURCHASES              4452\n",
              "CASH_ADVANCE                        4323\n",
              "PURCHASES_FREQUENCY                   47\n",
              "ONEOFF_PURCHASES_FREQUENCY            47\n",
              "PURCHASES_INSTALLMENTS_FREQUENCY      47\n",
              "CASH_ADVANCE_FREQUENCY                54\n",
              "CASH_ADVANCE_TRX                      65\n",
              "PURCHASES_TRX                        173\n",
              "CREDIT_LIMIT                         205\n",
              "PAYMENTS                            8711\n",
              "MINIMUM_PAYMENTS                    8636\n",
              "PRC_FULL_PAYMENT                      47\n",
              "TENURE                                 7\n",
              "dtype: int64"
            ]
          },
          "metadata": {},
          "execution_count": 257
        }
      ]
    },
    {
      "cell_type": "markdown",
      "source": [
        "\n",
        "\n",
        "---\n",
        "\n",
        "\n",
        "\n",
        "---\n",
        "\n"
      ],
      "metadata": {
        "id": "S1uc8xogJlYW"
      }
    },
    {
      "cell_type": "markdown",
      "source": [
        "# Data Preprocessing"
      ],
      "metadata": {
        "id": "TO6XMg5bJhyp"
      }
    },
    {
      "cell_type": "markdown",
      "source": [
        "### *Handling Missing Values*"
      ],
      "metadata": {
        "id": "BTee2zVCS4-9"
      }
    },
    {
      "cell_type": "code",
      "source": [
        "df_copy = df\n",
        "df_copy[\"CREDIT_LIMIT\"].fillna(df_copy[\"CREDIT_LIMIT\"].median(),inplace=True)\n",
        "df_copy[\"MINIMUM_PAYMENTS\"].fillna(df_copy[\"MINIMUM_PAYMENTS\"].median(),inplace=True)\n",
        "\n"
      ],
      "metadata": {
        "id": "wbJ_9HgETEb3"
      },
      "execution_count": 258,
      "outputs": []
    },
    {
      "cell_type": "markdown",
      "source": [
        "### *Data Scaling*"
      ],
      "metadata": {
        "id": "LOZdtbc8TUdO"
      }
    },
    {
      "cell_type": "code",
      "source": [
        "sc = StandardScaler()\n",
        "df_scal = sc.fit_transform(df_copy)"
      ],
      "metadata": {
        "id": "YM9RauC3TZtA"
      },
      "execution_count": 259,
      "outputs": []
    },
    {
      "cell_type": "code",
      "source": [
        "df_scal"
      ],
      "metadata": {
        "colab": {
          "base_uri": "https://localhost:8080/"
        },
        "id": "GOSpxwpfWqax",
        "outputId": "c6117626-b347-4c2c-f34a-527f892a4f79"
      },
      "execution_count": 260,
      "outputs": [
        {
          "output_type": "execute_result",
          "data": {
            "text/plain": [
              "array([[-0.73198937, -0.24943448, -0.42489974, ..., -0.3024    ,\n",
              "        -0.52555097,  0.36067954],\n",
              "       [ 0.78696085,  0.13432467, -0.46955188, ...,  0.09749953,\n",
              "         0.2342269 ,  0.36067954],\n",
              "       [ 0.44713513,  0.51808382, -0.10766823, ..., -0.0932934 ,\n",
              "        -0.52555097,  0.36067954],\n",
              "       ...,\n",
              "       [-0.7403981 , -0.18547673, -0.40196519, ..., -0.32687479,\n",
              "         0.32919999, -4.12276757],\n",
              "       [-0.74517423, -0.18547673, -0.46955188, ..., -0.33830497,\n",
              "         0.32919999, -4.12276757],\n",
              "       [-0.57257511, -0.88903307,  0.04214581, ..., -0.3243581 ,\n",
              "        -0.52555097, -4.12276757]])"
            ]
          },
          "metadata": {},
          "execution_count": 260
        }
      ]
    },
    {
      "cell_type": "markdown",
      "source": [
        "### *Log Transformation*"
      ],
      "metadata": {
        "id": "PeSZK39aUUHA"
      }
    },
    {
      "cell_type": "code",
      "source": [
        "cols = ['BALANCE', 'ONEOFF_PURCHASES', 'INSTALLMENTS_PURCHASES', 'CASH_ADVANCE', 'ONEOFF_PURCHASES_FREQUENCY','PURCHASES_INSTALLMENTS_FREQUENCY', 'CASH_ADVANCE_TRX', 'PURCHASES_TRX', 'CREDIT_LIMIT', 'PAYMENTS', 'MINIMUM_PAYMENTS', 'PRC_FULL_PAYMENT']\n",
        "for col in cols:\n",
        "     df_copy[col] = np.log(1 + df_copy[col])"
      ],
      "metadata": {
        "id": "iY0VvqHUUZd5"
      },
      "execution_count": 261,
      "outputs": []
    },
    {
      "cell_type": "code",
      "source": [
        "df_copy"
      ],
      "metadata": {
        "colab": {
          "base_uri": "https://localhost:8080/",
          "height": 488
        },
        "id": "F-hXgQ1YaP5l",
        "outputId": "88cdee89-4d23-429d-86aa-e4db632f28c9"
      },
      "execution_count": 262,
      "outputs": [
        {
          "output_type": "execute_result",
          "data": {
            "text/plain": [
              "       BALANCE  BALANCE_FREQUENCY  PURCHASES  ONEOFF_PURCHASES  \\\n",
              "0     3.735304           0.818182      95.40          0.000000   \n",
              "1     8.071989           0.909091       0.00          0.000000   \n",
              "2     7.822504           1.000000     773.17          6.651791   \n",
              "3     7.419183           0.636364    1499.00          7.313220   \n",
              "4     6.707735           1.000000      16.00          2.833213   \n",
              "...        ...                ...        ...               ...   \n",
              "8945  3.384170           1.000000     291.12          0.000000   \n",
              "8946  3.004851           1.000000     300.00          0.000000   \n",
              "8947  3.194529           0.833333     144.40          0.000000   \n",
              "8948  2.671218           0.833333       0.00          0.000000   \n",
              "8949  5.923475           0.666667    1093.25          6.997824   \n",
              "\n",
              "      INSTALLMENTS_PURCHASES  CASH_ADVANCE  PURCHASES_FREQUENCY  \\\n",
              "0                   4.568506      0.000000             0.166667   \n",
              "1                   0.000000      8.770896             0.000000   \n",
              "2                   0.000000      0.000000             1.000000   \n",
              "3                   0.000000      5.331694             0.083333   \n",
              "4                   0.000000      0.000000             0.083333   \n",
              "...                      ...           ...                  ...   \n",
              "8945                5.677165      0.000000             1.000000   \n",
              "8946                5.707110      0.000000             1.000000   \n",
              "8947                4.979489      0.000000             0.833333   \n",
              "8948                0.000000      3.625907             0.000000   \n",
              "8949                0.000000      4.852343             0.666667   \n",
              "\n",
              "      ONEOFF_PURCHASES_FREQUENCY  PURCHASES_INSTALLMENTS_FREQUENCY  \\\n",
              "0                       0.000000                          0.080042   \n",
              "1                       0.000000                          0.000000   \n",
              "2                       0.693147                          0.000000   \n",
              "3                       0.080042                          0.000000   \n",
              "4                       0.080042                          0.000000   \n",
              "...                          ...                               ...   \n",
              "8945                    0.000000                          0.606136   \n",
              "8946                    0.000000                          0.606136   \n",
              "8947                    0.000000                          0.510826   \n",
              "8948                    0.000000                          0.000000   \n",
              "8949                    0.510826                          0.000000   \n",
              "\n",
              "      CASH_ADVANCE_FREQUENCY  CASH_ADVANCE_TRX  PURCHASES_TRX  CREDIT_LIMIT  \\\n",
              "0                   0.000000          0.000000       1.098612      6.908755   \n",
              "1                   0.250000          1.609438       0.000000      8.853808   \n",
              "2                   0.000000          0.000000       2.564949      8.922792   \n",
              "3                   0.083333          0.693147       0.693147      8.922792   \n",
              "4                   0.000000          0.000000       0.693147      7.090910   \n",
              "...                      ...               ...            ...           ...   \n",
              "8945                0.000000          0.000000       1.945910      6.908755   \n",
              "8946                0.000000          0.000000       1.945910      6.908755   \n",
              "8947                0.000000          0.000000       1.791759      6.908755   \n",
              "8948                0.166667          1.098612       0.000000      6.216606   \n",
              "8949                0.333333          1.098612       3.178054      7.090910   \n",
              "\n",
              "      PAYMENTS  MINIMUM_PAYMENTS  PRC_FULL_PAYMENT  TENURE  \n",
              "0     5.312231          4.945277          0.000000      12  \n",
              "1     8.319725          6.978531          0.200671      12  \n",
              "2     6.434654          6.442994          0.000000      12  \n",
              "3     0.000000          5.747301          0.000000      12  \n",
              "4     6.521114          5.504483          0.000000      12  \n",
              "...        ...               ...               ...     ...  \n",
              "8945  5.788719          3.909748          0.405465       6  \n",
              "8946  5.623517          5.747301          0.000000       6  \n",
              "8947  4.410016          4.423869          0.223144       6  \n",
              "8948  3.980615          4.038755          0.223144       6  \n",
              "8949  4.161464          4.491878          0.000000       6  \n",
              "\n",
              "[8950 rows x 17 columns]"
            ],
            "text/html": [
              "\n",
              "  <div id=\"df-38ba1b7e-5aa0-4d3d-b4c7-e214be72499f\">\n",
              "    <div class=\"colab-df-container\">\n",
              "      <div>\n",
              "<style scoped>\n",
              "    .dataframe tbody tr th:only-of-type {\n",
              "        vertical-align: middle;\n",
              "    }\n",
              "\n",
              "    .dataframe tbody tr th {\n",
              "        vertical-align: top;\n",
              "    }\n",
              "\n",
              "    .dataframe thead th {\n",
              "        text-align: right;\n",
              "    }\n",
              "</style>\n",
              "<table border=\"1\" class=\"dataframe\">\n",
              "  <thead>\n",
              "    <tr style=\"text-align: right;\">\n",
              "      <th></th>\n",
              "      <th>BALANCE</th>\n",
              "      <th>BALANCE_FREQUENCY</th>\n",
              "      <th>PURCHASES</th>\n",
              "      <th>ONEOFF_PURCHASES</th>\n",
              "      <th>INSTALLMENTS_PURCHASES</th>\n",
              "      <th>CASH_ADVANCE</th>\n",
              "      <th>PURCHASES_FREQUENCY</th>\n",
              "      <th>ONEOFF_PURCHASES_FREQUENCY</th>\n",
              "      <th>PURCHASES_INSTALLMENTS_FREQUENCY</th>\n",
              "      <th>CASH_ADVANCE_FREQUENCY</th>\n",
              "      <th>CASH_ADVANCE_TRX</th>\n",
              "      <th>PURCHASES_TRX</th>\n",
              "      <th>CREDIT_LIMIT</th>\n",
              "      <th>PAYMENTS</th>\n",
              "      <th>MINIMUM_PAYMENTS</th>\n",
              "      <th>PRC_FULL_PAYMENT</th>\n",
              "      <th>TENURE</th>\n",
              "    </tr>\n",
              "  </thead>\n",
              "  <tbody>\n",
              "    <tr>\n",
              "      <th>0</th>\n",
              "      <td>3.735304</td>\n",
              "      <td>0.818182</td>\n",
              "      <td>95.40</td>\n",
              "      <td>0.000000</td>\n",
              "      <td>4.568506</td>\n",
              "      <td>0.000000</td>\n",
              "      <td>0.166667</td>\n",
              "      <td>0.000000</td>\n",
              "      <td>0.080042</td>\n",
              "      <td>0.000000</td>\n",
              "      <td>0.000000</td>\n",
              "      <td>1.098612</td>\n",
              "      <td>6.908755</td>\n",
              "      <td>5.312231</td>\n",
              "      <td>4.945277</td>\n",
              "      <td>0.000000</td>\n",
              "      <td>12</td>\n",
              "    </tr>\n",
              "    <tr>\n",
              "      <th>1</th>\n",
              "      <td>8.071989</td>\n",
              "      <td>0.909091</td>\n",
              "      <td>0.00</td>\n",
              "      <td>0.000000</td>\n",
              "      <td>0.000000</td>\n",
              "      <td>8.770896</td>\n",
              "      <td>0.000000</td>\n",
              "      <td>0.000000</td>\n",
              "      <td>0.000000</td>\n",
              "      <td>0.250000</td>\n",
              "      <td>1.609438</td>\n",
              "      <td>0.000000</td>\n",
              "      <td>8.853808</td>\n",
              "      <td>8.319725</td>\n",
              "      <td>6.978531</td>\n",
              "      <td>0.200671</td>\n",
              "      <td>12</td>\n",
              "    </tr>\n",
              "    <tr>\n",
              "      <th>2</th>\n",
              "      <td>7.822504</td>\n",
              "      <td>1.000000</td>\n",
              "      <td>773.17</td>\n",
              "      <td>6.651791</td>\n",
              "      <td>0.000000</td>\n",
              "      <td>0.000000</td>\n",
              "      <td>1.000000</td>\n",
              "      <td>0.693147</td>\n",
              "      <td>0.000000</td>\n",
              "      <td>0.000000</td>\n",
              "      <td>0.000000</td>\n",
              "      <td>2.564949</td>\n",
              "      <td>8.922792</td>\n",
              "      <td>6.434654</td>\n",
              "      <td>6.442994</td>\n",
              "      <td>0.000000</td>\n",
              "      <td>12</td>\n",
              "    </tr>\n",
              "    <tr>\n",
              "      <th>3</th>\n",
              "      <td>7.419183</td>\n",
              "      <td>0.636364</td>\n",
              "      <td>1499.00</td>\n",
              "      <td>7.313220</td>\n",
              "      <td>0.000000</td>\n",
              "      <td>5.331694</td>\n",
              "      <td>0.083333</td>\n",
              "      <td>0.080042</td>\n",
              "      <td>0.000000</td>\n",
              "      <td>0.083333</td>\n",
              "      <td>0.693147</td>\n",
              "      <td>0.693147</td>\n",
              "      <td>8.922792</td>\n",
              "      <td>0.000000</td>\n",
              "      <td>5.747301</td>\n",
              "      <td>0.000000</td>\n",
              "      <td>12</td>\n",
              "    </tr>\n",
              "    <tr>\n",
              "      <th>4</th>\n",
              "      <td>6.707735</td>\n",
              "      <td>1.000000</td>\n",
              "      <td>16.00</td>\n",
              "      <td>2.833213</td>\n",
              "      <td>0.000000</td>\n",
              "      <td>0.000000</td>\n",
              "      <td>0.083333</td>\n",
              "      <td>0.080042</td>\n",
              "      <td>0.000000</td>\n",
              "      <td>0.000000</td>\n",
              "      <td>0.000000</td>\n",
              "      <td>0.693147</td>\n",
              "      <td>7.090910</td>\n",
              "      <td>6.521114</td>\n",
              "      <td>5.504483</td>\n",
              "      <td>0.000000</td>\n",
              "      <td>12</td>\n",
              "    </tr>\n",
              "    <tr>\n",
              "      <th>...</th>\n",
              "      <td>...</td>\n",
              "      <td>...</td>\n",
              "      <td>...</td>\n",
              "      <td>...</td>\n",
              "      <td>...</td>\n",
              "      <td>...</td>\n",
              "      <td>...</td>\n",
              "      <td>...</td>\n",
              "      <td>...</td>\n",
              "      <td>...</td>\n",
              "      <td>...</td>\n",
              "      <td>...</td>\n",
              "      <td>...</td>\n",
              "      <td>...</td>\n",
              "      <td>...</td>\n",
              "      <td>...</td>\n",
              "      <td>...</td>\n",
              "    </tr>\n",
              "    <tr>\n",
              "      <th>8945</th>\n",
              "      <td>3.384170</td>\n",
              "      <td>1.000000</td>\n",
              "      <td>291.12</td>\n",
              "      <td>0.000000</td>\n",
              "      <td>5.677165</td>\n",
              "      <td>0.000000</td>\n",
              "      <td>1.000000</td>\n",
              "      <td>0.000000</td>\n",
              "      <td>0.606136</td>\n",
              "      <td>0.000000</td>\n",
              "      <td>0.000000</td>\n",
              "      <td>1.945910</td>\n",
              "      <td>6.908755</td>\n",
              "      <td>5.788719</td>\n",
              "      <td>3.909748</td>\n",
              "      <td>0.405465</td>\n",
              "      <td>6</td>\n",
              "    </tr>\n",
              "    <tr>\n",
              "      <th>8946</th>\n",
              "      <td>3.004851</td>\n",
              "      <td>1.000000</td>\n",
              "      <td>300.00</td>\n",
              "      <td>0.000000</td>\n",
              "      <td>5.707110</td>\n",
              "      <td>0.000000</td>\n",
              "      <td>1.000000</td>\n",
              "      <td>0.000000</td>\n",
              "      <td>0.606136</td>\n",
              "      <td>0.000000</td>\n",
              "      <td>0.000000</td>\n",
              "      <td>1.945910</td>\n",
              "      <td>6.908755</td>\n",
              "      <td>5.623517</td>\n",
              "      <td>5.747301</td>\n",
              "      <td>0.000000</td>\n",
              "      <td>6</td>\n",
              "    </tr>\n",
              "    <tr>\n",
              "      <th>8947</th>\n",
              "      <td>3.194529</td>\n",
              "      <td>0.833333</td>\n",
              "      <td>144.40</td>\n",
              "      <td>0.000000</td>\n",
              "      <td>4.979489</td>\n",
              "      <td>0.000000</td>\n",
              "      <td>0.833333</td>\n",
              "      <td>0.000000</td>\n",
              "      <td>0.510826</td>\n",
              "      <td>0.000000</td>\n",
              "      <td>0.000000</td>\n",
              "      <td>1.791759</td>\n",
              "      <td>6.908755</td>\n",
              "      <td>4.410016</td>\n",
              "      <td>4.423869</td>\n",
              "      <td>0.223144</td>\n",
              "      <td>6</td>\n",
              "    </tr>\n",
              "    <tr>\n",
              "      <th>8948</th>\n",
              "      <td>2.671218</td>\n",
              "      <td>0.833333</td>\n",
              "      <td>0.00</td>\n",
              "      <td>0.000000</td>\n",
              "      <td>0.000000</td>\n",
              "      <td>3.625907</td>\n",
              "      <td>0.000000</td>\n",
              "      <td>0.000000</td>\n",
              "      <td>0.000000</td>\n",
              "      <td>0.166667</td>\n",
              "      <td>1.098612</td>\n",
              "      <td>0.000000</td>\n",
              "      <td>6.216606</td>\n",
              "      <td>3.980615</td>\n",
              "      <td>4.038755</td>\n",
              "      <td>0.223144</td>\n",
              "      <td>6</td>\n",
              "    </tr>\n",
              "    <tr>\n",
              "      <th>8949</th>\n",
              "      <td>5.923475</td>\n",
              "      <td>0.666667</td>\n",
              "      <td>1093.25</td>\n",
              "      <td>6.997824</td>\n",
              "      <td>0.000000</td>\n",
              "      <td>4.852343</td>\n",
              "      <td>0.666667</td>\n",
              "      <td>0.510826</td>\n",
              "      <td>0.000000</td>\n",
              "      <td>0.333333</td>\n",
              "      <td>1.098612</td>\n",
              "      <td>3.178054</td>\n",
              "      <td>7.090910</td>\n",
              "      <td>4.161464</td>\n",
              "      <td>4.491878</td>\n",
              "      <td>0.000000</td>\n",
              "      <td>6</td>\n",
              "    </tr>\n",
              "  </tbody>\n",
              "</table>\n",
              "<p>8950 rows × 17 columns</p>\n",
              "</div>\n",
              "      <button class=\"colab-df-convert\" onclick=\"convertToInteractive('df-38ba1b7e-5aa0-4d3d-b4c7-e214be72499f')\"\n",
              "              title=\"Convert this dataframe to an interactive table.\"\n",
              "              style=\"display:none;\">\n",
              "        \n",
              "  <svg xmlns=\"http://www.w3.org/2000/svg\" height=\"24px\"viewBox=\"0 0 24 24\"\n",
              "       width=\"24px\">\n",
              "    <path d=\"M0 0h24v24H0V0z\" fill=\"none\"/>\n",
              "    <path d=\"M18.56 5.44l.94 2.06.94-2.06 2.06-.94-2.06-.94-.94-2.06-.94 2.06-2.06.94zm-11 1L8.5 8.5l.94-2.06 2.06-.94-2.06-.94L8.5 2.5l-.94 2.06-2.06.94zm10 10l.94 2.06.94-2.06 2.06-.94-2.06-.94-.94-2.06-.94 2.06-2.06.94z\"/><path d=\"M17.41 7.96l-1.37-1.37c-.4-.4-.92-.59-1.43-.59-.52 0-1.04.2-1.43.59L10.3 9.45l-7.72 7.72c-.78.78-.78 2.05 0 2.83L4 21.41c.39.39.9.59 1.41.59.51 0 1.02-.2 1.41-.59l7.78-7.78 2.81-2.81c.8-.78.8-2.07 0-2.86zM5.41 20L4 18.59l7.72-7.72 1.47 1.35L5.41 20z\"/>\n",
              "  </svg>\n",
              "      </button>\n",
              "      \n",
              "  <style>\n",
              "    .colab-df-container {\n",
              "      display:flex;\n",
              "      flex-wrap:wrap;\n",
              "      gap: 12px;\n",
              "    }\n",
              "\n",
              "    .colab-df-convert {\n",
              "      background-color: #E8F0FE;\n",
              "      border: none;\n",
              "      border-radius: 50%;\n",
              "      cursor: pointer;\n",
              "      display: none;\n",
              "      fill: #1967D2;\n",
              "      height: 32px;\n",
              "      padding: 0 0 0 0;\n",
              "      width: 32px;\n",
              "    }\n",
              "\n",
              "    .colab-df-convert:hover {\n",
              "      background-color: #E2EBFA;\n",
              "      box-shadow: 0px 1px 2px rgba(60, 64, 67, 0.3), 0px 1px 3px 1px rgba(60, 64, 67, 0.15);\n",
              "      fill: #174EA6;\n",
              "    }\n",
              "\n",
              "    [theme=dark] .colab-df-convert {\n",
              "      background-color: #3B4455;\n",
              "      fill: #D2E3FC;\n",
              "    }\n",
              "\n",
              "    [theme=dark] .colab-df-convert:hover {\n",
              "      background-color: #434B5C;\n",
              "      box-shadow: 0px 1px 3px 1px rgba(0, 0, 0, 0.15);\n",
              "      filter: drop-shadow(0px 1px 2px rgba(0, 0, 0, 0.3));\n",
              "      fill: #FFFFFF;\n",
              "    }\n",
              "  </style>\n",
              "\n",
              "      <script>\n",
              "        const buttonEl =\n",
              "          document.querySelector('#df-38ba1b7e-5aa0-4d3d-b4c7-e214be72499f button.colab-df-convert');\n",
              "        buttonEl.style.display =\n",
              "          google.colab.kernel.accessAllowed ? 'block' : 'none';\n",
              "\n",
              "        async function convertToInteractive(key) {\n",
              "          const element = document.querySelector('#df-38ba1b7e-5aa0-4d3d-b4c7-e214be72499f');\n",
              "          const dataTable =\n",
              "            await google.colab.kernel.invokeFunction('convertToInteractive',\n",
              "                                                     [key], {});\n",
              "          if (!dataTable) return;\n",
              "\n",
              "          const docLinkHtml = 'Like what you see? Visit the ' +\n",
              "            '<a target=\"_blank\" href=https://colab.research.google.com/notebooks/data_table.ipynb>data table notebook</a>'\n",
              "            + ' to learn more about interactive tables.';\n",
              "          element.innerHTML = '';\n",
              "          dataTable['output_type'] = 'display_data';\n",
              "          await google.colab.output.renderOutput(dataTable, element);\n",
              "          const docLink = document.createElement('div');\n",
              "          docLink.innerHTML = docLinkHtml;\n",
              "          element.appendChild(docLink);\n",
              "        }\n",
              "      </script>\n",
              "    </div>\n",
              "  </div>\n",
              "  "
            ]
          },
          "metadata": {},
          "execution_count": 262
        }
      ]
    },
    {
      "cell_type": "markdown",
      "source": [
        "### *Quantile Transformation*"
      ],
      "metadata": {
        "id": "_tFC8M6XVU2i"
      }
    },
    {
      "cell_type": "code",
      "source": [
        "#solution \n",
        "trans = QuantileTransformer(n_quantiles=100, output_distribution='normal')\n",
        "df_trans = trans.fit_transform(df_copy)\n",
        "#test \n",
        "df_quan = pd.DataFrame(df_trans,columns=df_copy.columns)\n",
        "# histograms of the variables\n",
        "%matplotlib inline\n",
        "df_quan.hist(bins=50, figsize=(16,16))\n",
        "plt.show()"
      ],
      "metadata": {
        "colab": {
          "base_uri": "https://localhost:8080/",
          "height": 936
        },
        "id": "fFzwjEiKVTr2",
        "outputId": "9f0c4925-d603-45b6-cdca-bf8ff1a73b71"
      },
      "execution_count": 263,
      "outputs": [
        {
          "output_type": "display_data",
          "data": {
            "text/plain": [
              "<Figure size 1152x1152 with 20 Axes>"
            ],
            "image/png": "[encoded data removed]"
          },
          "metadata": {
            "needs_background": "light"
          }
        }
      ]
    },
    {
      "cell_type": "markdown",
      "source": [
        "### *Is PCA better than Kernel PCA?*\n"
      ],
      "metadata": {
        "id": "gTEvct9W4fpN"
      }
    },
    {
      "cell_type": "markdown",
      "source": [
        "Kernel PCA: to help with the classification of data whose decision boundaries are described by non-linear function"
      ],
      "metadata": {
        "id": "EhuY-HX779ls"
      }
    },
    {
      "cell_type": "markdown",
      "source": [
        "### PCA"
      ],
      "metadata": {
        "id": "y0-ABMX_AY-b"
      }
    },
    {
      "cell_type": "code",
      "source": [
        "pca = PCA(n_components=4)\n",
        "df_pca = pca.fit_transform(df_copy)\n",
        "# #explained_variance = pca.explained_variance_ratio_\n"
      ],
      "metadata": {
        "id": "9I6GzeSmA1BP"
      },
      "execution_count": 264,
      "outputs": []
    },
    {
      "cell_type": "code",
      "source": [
        "# exp_var_cumul = np.cumsum(pca.explained_variance_ratio_)\n",
        "# px.area(\n",
        "#     x=range(1, exp_var_cumul.shape[0] + 1),\n",
        "#     y=exp_var_cumul,\n",
        "#     labels={\"x\": \"# Components\", \"y\": \"Explained Variance\"}\n",
        "# )"
      ],
      "metadata": {
        "id": "IvmBW2HyRY1X"
      },
      "execution_count": 265,
      "outputs": []
    },
    {
      "cell_type": "markdown",
      "source": [
        "### *Kernel PCA*"
      ],
      "metadata": {
        "id": "DeTN0HkEWQcx"
      }
    },
    {
      "cell_type": "code",
      "source": [
        "kernelPCA = KernelPCA(n_components=3, kernel='rbf', gamma=0.01)\n",
        "df_ker_PCA = kernelPCA.fit_transform(df_copy)"
      ],
      "metadata": {
        "id": "kSJyQhV_7KG3"
      },
      "execution_count": 266,
      "outputs": []
    },
    {
      "cell_type": "markdown",
      "source": [
        "### T-*SNE*"
      ],
      "metadata": {
        "id": "ClfL6es5XdG5"
      }
    },
    {
      "cell_type": "code",
      "source": [
        "tsne_projection = TSNE(n_components=2, \n",
        "                       perplexity=2.5, \n",
        "                       learning_rate=1, \n",
        "                       init='pca', \n",
        "                       method='barnes_hut', \n",
        "                       n_jobs=2, \n",
        "                       n_iter=10**4, \n",
        "                       random_state=0).fit_transform(df_copy.T)\n",
        "\n",
        "tsne_projection = pd.DataFrame(tsne_projection, index=df_copy.columns)"
      ],
      "metadata": {
        "colab": {
          "base_uri": "https://localhost:8080/"
        },
        "id": "5IqzrGtQdv2v",
        "outputId": "03f819ac-b575-4312-8d86-de3c85cb33ba"
      },
      "execution_count": 267,
      "outputs": [
        {
          "output_type": "stream",
          "name": "stderr",
          "text": [
            "/usr/local/lib/python3.7/dist-packages/sklearn/manifold/_t_sne.py:986: FutureWarning: The PCA initialization in TSNE will change to have the standard deviation of PC1 equal to 1e-4 in 1.2. This will ensure better convergence.\n",
            "  FutureWarning,\n"
          ]
        }
      ]
    },
    {
      "cell_type": "code",
      "source": [
        "tsne_projection.shape"
      ],
      "metadata": {
        "colab": {
          "base_uri": "https://localhost:8080/"
        },
        "id": "ay8KZWXvd3Vf",
        "outputId": "40ca7c4e-7d56-43ea-ffae-d81d517a50c5"
      },
      "execution_count": 268,
      "outputs": [
        {
          "output_type": "execute_result",
          "data": {
            "text/plain": [
              "(17, 2)"
            ]
          },
          "metadata": {},
          "execution_count": 268
        }
      ]
    },
    {
      "cell_type": "code",
      "source": [
        "# fig = px.scatter(x=tsne_projection[0], y=tsne_projection[1], text=tsne_projection.index)\n",
        "# fig.update_traces(textposition='top center')\n",
        "# fig.update_layout(height=1000, width=1200, title_text='TSNE')\n",
        "# fig.show()"
      ],
      "metadata": {
        "id": "-dCgpF8odxVO"
      },
      "execution_count": 269,
      "outputs": []
    },
    {
      "cell_type": "markdown",
      "source": [
        "# All Unsupervised Algorithms"
      ],
      "metadata": {
        "id": "eYRod1M_QbBN"
      }
    },
    {
      "cell_type": "markdown",
      "source": [
        "## K-Means"
      ],
      "metadata": {
        "id": "M3Vxm3vhQg1W"
      }
    },
    {
      "cell_type": "code",
      "source": [
        "class K_means():\n",
        "    def _init_(self,X,K):       \n",
        "        self.X=X\n",
        "        self.K=K\n",
        "    \n",
        "    \n",
        "    \n",
        "    def kMeansInitCentroids(self,X, K):        \n",
        "         #centroids =np.zeros([K,X.shape[1]])\n",
        "        choices = np.random.choice(X.shape[0],size = K,replace=False)\n",
        "        centroids = X[choices,:]\n",
        "   \n",
        "        return centroids\n",
        "    \n",
        "    \n",
        "    \n",
        "    def computeCentroids(self,X, idx, K):  \n",
        "        centroids =np.zeros([K,X.shape[1]])  \n",
        "        for i in range(K):\n",
        "            count = 0\n",
        "            sumi = np.zeros(X.shape[1])\n",
        "            for j in range(len(idx)):\n",
        "                if idx[j]==i:\n",
        "                    sumi+=X[j,:]\n",
        "                    count+=1\n",
        "            centroids[i,:]=sumi/count\n",
        "        return centroids      \n",
        "         \n",
        "\n",
        "\n",
        "\n",
        "    def findClosestCentroids(self,X, centroids):     \n",
        "        #idx = np.array([X.shape[0],1])\n",
        "        idx = np.zeros(X.shape[0],dtype = int);\n",
        "        #idx = []\n",
        "        distance = 0\n",
        "        for i in range(len(X)):\n",
        "            minDistance = 0\n",
        "            for j in range(len(centroids)):\n",
        "                distance = sum((abs(X[i,:]-centroids[j,:]))**2)\n",
        "                #print(distance)\n",
        "                if j==0:\n",
        "                    minDistance =distance\n",
        "                    #print(minDistance)\n",
        "                    idx[i] = j\n",
        "            \n",
        "                else:\n",
        "                    if distance <minDistance:\n",
        "                        minDistance = distance\n",
        "                        idx[i] = j     \n",
        "        return idx\n"
      ],
      "metadata": {
        "id": "2Mcv2nqv5NMJ"
      },
      "execution_count": 270,
      "outputs": []
    },
    {
      "cell_type": "code",
      "source": [
        "# kmean = K_means()\n",
        "# centroids = kmean.kMeansInitCentroids(df_copy.values,3)\n",
        "# #print(centroids)\n",
        "# for i in range(100):\n",
        "#     idx = kmean.findClosestCentroids(df_copy.values,centroids)\n",
        "#     centroids = kmean.computeCentroids(df_copy.values,idx,3)\n",
        "# idxDF = pd.DataFrame(idx)\n",
        "# idxDF.value_counts()\n"
      ],
      "metadata": {
        "id": "hv3Ed0pQ5NHu"
      },
      "execution_count": 271,
      "outputs": []
    },
    {
      "cell_type": "code",
      "source": [
        "kmeans = KMeans(n_clusters=3, random_state=0,max_iter=100).fit(df_pca)\n",
        "y_kmeans =  kmeans.fit_predict(df_pca)\n",
        "kmeans.labels_\n",
        "kmeanDF = pd.DataFrame(kmeans.labels_)\n",
        "kmeanDF.value_counts()"
      ],
      "metadata": {
        "colab": {
          "base_uri": "https://localhost:8080/"
        },
        "id": "4leQrQO55WZJ",
        "outputId": "8c016a0c-4b39-41e2-ac55-18b8a51ece9b"
      },
      "execution_count": 272,
      "outputs": [
        {
          "output_type": "execute_result",
          "data": {
            "text/plain": [
              "1    8195\n",
              "0     731\n",
              "2      24\n",
              "dtype: int64"
            ]
          },
          "metadata": {},
          "execution_count": 272
        }
      ]
    },
    {
      "cell_type": "code",
      "source": [
        "distortions = []\n",
        "K = range(1,10)\n",
        "for k in K:\n",
        "    kmeanModel = KMeans(n_clusters=k)\n",
        "    kmeanModel.fit(df_pca)\n",
        "    distortions.append(kmeanModel.inertia_)\n",
        "plt.figure(figsize=(16,8))\n",
        "plt.plot(K, distortions, 'bx-')\n",
        "plt.xlabel('k')\n",
        "plt.ylabel('Distortion')\n",
        "plt.title('The Elbow Method showing the optimal k')\n",
        "plt.show()"
      ],
      "metadata": {
        "colab": {
          "base_uri": "https://localhost:8080/",
          "height": 518
        },
        "id": "t-kTCg-05ZD4",
        "outputId": "212c38b1-6988-4888-ba17-5905e7b29ad8"
      },
      "execution_count": 273,
      "outputs": [
        {
          "output_type": "display_data",
          "data": {
            "text/plain": [
              "<Figure size 1152x576 with 1 Axes>"
            ],
            "image/png": "[encoded data removed]"
          },
          "metadata": {
            "needs_background": "light"
          }
        }
      ]
    },
    {
      "cell_type": "code",
      "source": [
        "from scipy.spatial.distance import cdist\n",
        "distortions = []\n",
        "inertias = []\n",
        "mapping1 = {}\n",
        "mapping2 = {}\n",
        "K = range(1, 10)\n",
        " \n",
        "for k in K:\n",
        "    kmeanModel = KMeans(n_clusters=k).fit(df_pca)\n",
        "    kmeanModel.fit(df_pca)\n",
        " \n",
        "    distortions.append(sum(np.min(cdist(df_pca, kmeanModel.cluster_centers_,\n",
        "                                        'euclidean'), axis=1)) / df_pca.shape[0])\n",
        "    inertias.append(kmeanModel.inertia_)\n",
        " \n",
        "    mapping1[k] = sum(np.min(cdist(df_pca, kmeanModel.cluster_centers_,\n",
        "                                   'euclidean'), axis=1)) / df_pca.shape[0]\n",
        "    mapping2[k] = kmeanModel.inertia_"
      ],
      "metadata": {
        "id": "u9lY6teD5ch0"
      },
      "execution_count": 274,
      "outputs": []
    },
    {
      "cell_type": "code",
      "source": [
        "plt.plot(K, inertias, 'bx-')\n",
        "plt.xlabel('Values of K')\n",
        "plt.ylabel('Inertia')\n",
        "plt.title('The Elbow Method using Inertia')\n",
        "plt.show()"
      ],
      "metadata": {
        "colab": {
          "base_uri": "https://localhost:8080/",
          "height": 301
        },
        "id": "zPLhOAqM6JGX",
        "outputId": "9da737c5-36dd-4677-e998-4c14f5c468af"
      },
      "execution_count": 275,
      "outputs": [
        {
          "output_type": "display_data",
          "data": {
            "text/plain": [
              "<Figure size 432x288 with 1 Axes>"
            ],
            "image/png": "[encoded data removed]"
          },
          "metadata": {
            "needs_background": "light"
          }
        }
      ]
    },
    {
      "cell_type": "code",
      "source": [
        "kmeans = KMeans(n_clusters=3,random_state=23)\n",
        "kmeans.fit(df_pca)\n",
        "#y_kmeans =  kmeans.fit_predict(df_copy)"
      ],
      "metadata": {
        "colab": {
          "base_uri": "https://localhost:8080/"
        },
        "id": "kUAF-HnA8PJ2",
        "outputId": "8dc4aae6-f603-4364-ec6f-be927a07219e"
      },
      "execution_count": 276,
      "outputs": [
        {
          "output_type": "execute_result",
          "data": {
            "text/plain": [
              "KMeans(n_clusters=3, random_state=23)"
            ]
          },
          "metadata": {},
          "execution_count": 276
        }
      ]
    },
    {
      "cell_type": "code",
      "source": [
        "kmeansKernel = KMeans(n_clusters=3,random_state=23)\n",
        "kmeansKernel.fit(df_ker_PCA)"
      ],
      "metadata": {
        "colab": {
          "base_uri": "https://localhost:8080/"
        },
        "id": "VH4j9ubab_V7",
        "outputId": "b9d096c3-ad67-4416-c40a-ce9656b29e00"
      },
      "execution_count": 277,
      "outputs": [
        {
          "output_type": "execute_result",
          "data": {
            "text/plain": [
              "KMeans(n_clusters=3, random_state=23)"
            ]
          },
          "metadata": {},
          "execution_count": 277
        }
      ]
    },
    {
      "cell_type": "code",
      "source": [
        "kmeansTSNE = KMeans(n_clusters=3,random_state=23)\n",
        "kmeansTSNE.fit(tsne_projection)"
      ],
      "metadata": {
        "colab": {
          "base_uri": "https://localhost:8080/"
        },
        "id": "LmOd4kb-eESU",
        "outputId": "83e77fd0-0b0b-49bf-a485-0b883f849b84"
      },
      "execution_count": 278,
      "outputs": [
        {
          "output_type": "execute_result",
          "data": {
            "text/plain": [
              "KMeans(n_clusters=3, random_state=23)"
            ]
          },
          "metadata": {},
          "execution_count": 278
        }
      ]
    },
    {
      "cell_type": "code",
      "source": [
        "from sklearn.metrics import silhouette_score\n",
        "print('Silhoutte score of our model using PCA is ' + str(silhouette_score(df_pca, kmeans.labels_)))\n",
        "print('Silhoutte score of our model using Kernel PCA is ' + str(silhouette_score(df_ker_PCA, kmeansKernel.labels_)))\n",
        "print('Silhoutte score of our model using T-SNE is ' + str(silhouette_score(tsne_projection, kmeansTSNE.labels_)))"
      ],
      "metadata": {
        "colab": {
          "base_uri": "https://localhost:8080/"
        },
        "id": "eR_Xf4HF8iUF",
        "outputId": "40168c21-6e95-41d6-d041-7eec9258b51d"
      },
      "execution_count": 279,
      "outputs": [
        {
          "output_type": "stream",
          "name": "stdout",
          "text": [
            "Silhoutte score of our model using PCA is 0.7983795956688682\n",
            "Silhoutte score of our model using Kernel PCA is 0.8239888904680942\n",
            "Silhoutte score of our model using T-SNE is 0.57672656\n"
          ]
        }
      ]
    },
    {
      "cell_type": "code",
      "source": [
        "print('calinski harabasz score of our model using PCA is ' + str(calinski_harabasz_score(df_pca, kmeans.labels_)))\n",
        "print('calinski harabasz score of our model using kernel PCA is ' + str(calinski_harabasz_score(df_ker_PCA, kmeansKernel.labels_)))\n",
        "print('calinski harabasz score of our model using T-SNE is ' + str(calinski_harabasz_score(tsne_projection, kmeansTSNE.labels_)))"
      ],
      "metadata": {
        "colab": {
          "base_uri": "https://localhost:8080/"
        },
        "id": "NFnA9lKL4FXa",
        "outputId": "b9229989-1151-4c8d-946d-0bc2998f79b2"
      },
      "execution_count": 284,
      "outputs": [
        {
          "output_type": "stream",
          "name": "stdout",
          "text": [
            "calinski harabasz score of our model using PCA is 14656.41886127236\n",
            "calinski harabasz score of our model using kernel PCA is 39821.393190243434\n",
            "calinski harabasz score of our model using T-SNE is 104858.484665589\n"
          ]
        }
      ]
    },
    {
      "cell_type": "code",
      "source": [
        "print('davies bouldin score of our model using PCA is ' + str(davies_bouldin_score(df_pca, kmeans.labels_)))\n",
        "print('davies bouldin score of our model using kernel PCA is ' + str(davies_bouldin_score(df_ker_PCA, kmeansKernel.labels_)))\n",
        "print('davies bouldin score of our model using T-SNE is ' + str(davies_bouldin_score(tsne_projection, kmeansTSNE.labels_)))"
      ],
      "metadata": {
        "colab": {
          "base_uri": "https://localhost:8080/"
        },
        "id": "4fSCAUdt7t0s",
        "outputId": "403774c1-4c92-46b2-a4b4-0d2db8700c5a"
      },
      "execution_count": 306,
      "outputs": [
        {
          "output_type": "stream",
          "name": "stdout",
          "text": [
            "davies bouldin score of our model using PCA is 0.45715789720439276\n",
            "davies bouldin score of our model using kernel PCA is 0.5755905822947324\n",
            "davies bouldin score of our model using T-SNE is 0.30912430355334836\n"
          ]
        }
      ]
    },
    {
      "cell_type": "code",
      "source": [
        "kmeans.labels_\n",
        "kmeanDF = pd.DataFrame(kmeans.labels_)\n",
        "kmeanDF.value_counts()"
      ],
      "metadata": {
        "colab": {
          "base_uri": "https://localhost:8080/"
        },
        "id": "OwYOfG_zCVWU",
        "outputId": "9b8655c4-fa26-468a-c99c-b4311b430eb0"
      },
      "execution_count": 285,
      "outputs": [
        {
          "output_type": "execute_result",
          "data": {
            "text/plain": [
              "1    8195\n",
              "0     731\n",
              "2      24\n",
              "dtype: int64"
            ]
          },
          "metadata": {},
          "execution_count": 285
        }
      ]
    },
    {
      "cell_type": "code",
      "source": [
        "np.unique(y_kmeans)"
      ],
      "metadata": {
        "colab": {
          "base_uri": "https://localhost:8080/"
        },
        "id": "POqS6-LnCcwD",
        "outputId": "4825b314-c3fe-42c1-c6e8-ea8043620c0d"
      },
      "execution_count": 286,
      "outputs": [
        {
          "output_type": "execute_result",
          "data": {
            "text/plain": [
              "array([0, 1, 2], dtype=int32)"
            ]
          },
          "metadata": {},
          "execution_count": 286
        }
      ]
    },
    {
      "cell_type": "code",
      "source": [
        "# import scipy.cluster.hierarchy as shc\n",
        "\n",
        "# plt.figure(figsize=(10, 7))\n",
        "# plt.title(\"Counters Dendograms\")\n",
        "# dend = shc.dendrogram(shc.linkage(y=df_pca , method=\"complete\",metric=\"euclidean\"),orientation='right') #fill y with your dataframe\n",
        "#                                                                                       #and method with linkage criteria\n",
        "#                                                                                       #and metric with distance function"
      ],
      "metadata": {
        "id": "GT3Mxz393_k-"
      },
      "execution_count": 287,
      "outputs": []
    },
    {
      "cell_type": "markdown",
      "source": [
        "## Agglomerative Clustering"
      ],
      "metadata": {
        "id": "1mmk-UDZ8_we"
      }
    },
    {
      "cell_type": "code",
      "source": [
        "hier_cluster_PCA = AgglomerativeClustering(n_clusters=3,linkage='complete')\n",
        "hier_clustering_PCA = hier_cluster_PCA.fit_predict(df_pca)"
      ],
      "metadata": {
        "id": "vcaH6qon-WWA"
      },
      "execution_count": 288,
      "outputs": []
    },
    {
      "cell_type": "code",
      "source": [
        "hier_cluster_KernelPCA = AgglomerativeClustering(n_clusters=3,linkage='complete')\n",
        "hier_clustering_KernelPCA = hier_cluster_KernelPCA.fit_predict(df_ker_PCA)\n"
      ],
      "metadata": {
        "id": "_idC0ThgSL6w"
      },
      "execution_count": 289,
      "outputs": []
    },
    {
      "cell_type": "code",
      "source": [
        "hier_cluster_TSNE = AgglomerativeClustering(n_clusters=3,linkage='complete')\n",
        "hier_clustering_TSNE = hier_cluster_TSNE.fit_predict(tsne_projection)"
      ],
      "metadata": {
        "id": "ReyROCHffxjN"
      },
      "execution_count": 290,
      "outputs": []
    },
    {
      "cell_type": "code",
      "source": [
        "print('Silhoutte score of our model using PCA is ' + str(silhouette_score(df_pca, hier_clustering_PCA)))\n",
        "print('Silhoutte score of our model using KenelPCA is ' + str(silhouette_score(df_ker_PCA, hier_clustering_KernelPCA)))\n",
        "print('Silhoutte score of our model using TSNE is ' + str(silhouette_score(tsne_projection, hier_clustering_TSNE)))\n"
      ],
      "metadata": {
        "colab": {
          "base_uri": "https://localhost:8080/"
        },
        "id": "6MfpiaHZgFb4",
        "outputId": "a300da1d-6de0-4b90-dc1a-c93e7c90aa42"
      },
      "execution_count": 291,
      "outputs": [
        {
          "output_type": "stream",
          "name": "stdout",
          "text": [
            "Silhoutte score of our model using PCA is 0.938015912929925\n",
            "Silhoutte score of our model using KenelPCA is 0.8223674165128998\n",
            "Silhoutte score of our model using TSNE is 0.57672656\n"
          ]
        }
      ]
    },
    {
      "cell_type": "code",
      "source": [
        "print('calinski harabasz score of our model using PCA is ' + str(calinski_harabasz_score(df_pca,hier_clustering_PCA)))\n",
        "print('calinski harabasz score of our model using kernel PCA is ' + str(calinski_harabasz_score(df_ker_PCA, hier_clustering_KernelPCA)))\n",
        "print('calinski harabasz score of our model using T-SNE is ' + str(calinski_harabasz_score(tsne_projection,hier_clustering_TSNE)))"
      ],
      "metadata": {
        "colab": {
          "base_uri": "https://localhost:8080/"
        },
        "id": "Ye8TFaF-6Dp5",
        "outputId": "907e59d9-e02d-406d-d2e2-25506346ef32"
      },
      "execution_count": 292,
      "outputs": [
        {
          "output_type": "stream",
          "name": "stdout",
          "text": [
            "calinski harabasz score of our model using PCA is 3440.406135522925\n",
            "calinski harabasz score of our model using kernel PCA is 39105.47585339809\n",
            "calinski harabasz score of our model using T-SNE is 104858.484665589\n"
          ]
        }
      ]
    },
    {
      "cell_type": "code",
      "source": [
        "print('davies bouldin score of our model using PCA is ' + str(davies_bouldin_score(df_pca,hier_clustering_PCA)))\n",
        "print('davies bouldin score of our model using kernel PCA is ' + str(davies_bouldin_score(df_ker_PCA, hier_clustering_KernelPCA)))\n",
        "print('davies bouldin score of our model using T-SNE is ' + str(davies_bouldin_score(tsne_projection, hier_clustering_TSNE)))"
      ],
      "metadata": {
        "colab": {
          "base_uri": "https://localhost:8080/"
        },
        "id": "6tGrKpa57-w0",
        "outputId": "41742c6f-8c85-4ca5-ea0f-498b75f3fb86"
      },
      "execution_count": 307,
      "outputs": [
        {
          "output_type": "stream",
          "name": "stdout",
          "text": [
            "davies bouldin score of our model using PCA is 0.3746179662010685\n",
            "davies bouldin score of our model using kernel PCA is 0.5830481698903034\n",
            "davies bouldin score of our model using T-SNE is 0.30912430355334836\n"
          ]
        }
      ]
    },
    {
      "cell_type": "markdown",
      "source": [
        "# DBSCAN"
      ],
      "metadata": {
        "id": "TGDLiLc_1UQG"
      }
    },
    {
      "cell_type": "code",
      "source": [
        "clustering_PCA = DBSCAN(eps=8, min_samples=4).fit(df_pca)"
      ],
      "metadata": {
        "id": "1bFo8DIz1Tj3"
      },
      "execution_count": 293,
      "outputs": []
    },
    {
      "cell_type": "code",
      "source": [
        "print('Silhoutte score of our model is ' + str(silhouette_score(df_pca, clustering_PCA.labels_)))"
      ],
      "metadata": {
        "colab": {
          "base_uri": "https://localhost:8080/"
        },
        "id": "ipHFO8Py22Gf",
        "outputId": "5607415b-017d-456f-8a0d-2da2bbd09906"
      },
      "execution_count": 294,
      "outputs": [
        {
          "output_type": "stream",
          "name": "stdout",
          "text": [
            "Silhoutte score of our model is 0.4783163421452273\n"
          ]
        }
      ]
    },
    {
      "cell_type": "code",
      "source": [
        "print('calinski harabasz score of our model using PCA is ' + str(calinski_harabasz_score(df_pca,clustering_PCA.labels_)))\n"
      ],
      "metadata": {
        "colab": {
          "base_uri": "https://localhost:8080/"
        },
        "id": "aPMcqi2J3Ve0",
        "outputId": "746413b9-4985-4b6d-b1a7-eb2635e27dae"
      },
      "execution_count": 295,
      "outputs": [
        {
          "output_type": "stream",
          "name": "stdout",
          "text": [
            "calinski harabasz score of our model using PCA is 200.69761483109562\n"
          ]
        }
      ]
    },
    {
      "cell_type": "code",
      "source": [
        "print('davies bouldin score of our model using PCA is ' + str(davies_bouldin_score(df_pca,clustering_PCA.labels_)))"
      ],
      "metadata": {
        "colab": {
          "base_uri": "https://localhost:8080/"
        },
        "id": "BURvvXPr8HN0",
        "outputId": "24ceb496-6d65-428c-d232-a41e06f156ae"
      },
      "execution_count": 308,
      "outputs": [
        {
          "output_type": "stream",
          "name": "stdout",
          "text": [
            "davies bouldin score of our model using PCA is 1.2526197381486754\n"
          ]
        }
      ]
    },
    {
      "cell_type": "markdown",
      "source": [
        "# EM"
      ],
      "metadata": {
        "id": "DNT4p0kNbikb"
      }
    },
    {
      "cell_type": "code",
      "source": [
        "from sklearn import mixture\n",
        "gmmPCA = mixture.GaussianMixture(n_components=2,covariance_type=\"full\",max_iter = 100,init_params=\"random\")\n",
        "gmmPCA.fit(df_pca)\n",
        "yClustPCA = gmmPCA.predict(df_pca)\n"
      ],
      "metadata": {
        "id": "DLRYD110iGRG"
      },
      "execution_count": 296,
      "outputs": []
    },
    {
      "cell_type": "code",
      "source": [
        "gmmKernPCA = mixture.GaussianMixture(n_components=2,covariance_type=\"full\",max_iter = 100,init_params=\"random\")\n",
        "gmmKernPCA.fit(df_ker_PCA)\n",
        "yClustKernPCA = gmmKernPCA.predict(df_ker_PCA)"
      ],
      "metadata": {
        "id": "kXau-Dkk2pL2"
      },
      "execution_count": 297,
      "outputs": []
    },
    {
      "cell_type": "code",
      "source": [
        "gmmTSNE = mixture.GaussianMixture(n_components=2,covariance_type=\"full\",max_iter = 100,init_params=\"random\")\n",
        "gmmTSNE.fit(tsne_projection)\n",
        "yClustTSNE = gmmTSNE.predict(tsne_projection)"
      ],
      "metadata": {
        "id": "g0FYkxmcnMBF"
      },
      "execution_count": 298,
      "outputs": []
    },
    {
      "cell_type": "code",
      "source": [
        "print('Silhoutte score of our model using PCA is ' + str(silhouette_score(df_pca,yClustPCA)))\n",
        "print('Silhoutte score of our model using Kernel PCA is ' + str(silhouette_score(df_ker_PCA,yClustKernPCA)))\n",
        "print('Silhoutte score of our model using TSNE is ' + str(silhouette_score(tsne_projection,yClustTSNE)))"
      ],
      "metadata": {
        "colab": {
          "base_uri": "https://localhost:8080/"
        },
        "id": "4WyMt-1Knydm",
        "outputId": "bb09d54a-f3c6-4adb-fc65-025c42e45665"
      },
      "execution_count": 299,
      "outputs": [
        {
          "output_type": "stream",
          "name": "stdout",
          "text": [
            "Silhoutte score of our model using PCA is 0.5117982001168812\n",
            "Silhoutte score of our model using Kernel PCA is 0.8415008843795865\n",
            "Silhoutte score of our model using TSNE is 0.93669724\n"
          ]
        }
      ]
    },
    {
      "cell_type": "code",
      "source": [
        "print('calinski harabasz score of our model using PCA is ' + str(calinski_harabasz_score(df_pca,yClustPCA)))\n",
        "print('calinski harabasz score of our model using kernel PCA is ' + str(calinski_harabasz_score(df_ker_PCA, yClustKernPCA)))\n",
        "print('calinski harabasz score of our model using T-SNE is ' + str(calinski_harabasz_score(tsne_projection,yClustTSNE)))"
      ],
      "metadata": {
        "colab": {
          "base_uri": "https://localhost:8080/"
        },
        "id": "yKsIVZf36f9y",
        "outputId": "67afb57f-d2bb-4393-ebf0-76ec4885d5ec"
      },
      "execution_count": 300,
      "outputs": [
        {
          "output_type": "stream",
          "name": "stdout",
          "text": [
            "calinski harabasz score of our model using PCA is 2916.3157291497055\n",
            "calinski harabasz score of our model using kernel PCA is 37870.20522402646\n",
            "calinski harabasz score of our model using T-SNE is 64483.12738575875\n"
          ]
        }
      ]
    },
    {
      "cell_type": "code",
      "source": [
        "print('davies bouldin score of our model using PCA is ' + str(davies_bouldin_score(df_pca,yClustPCA)))\n",
        "print('davies bouldin score of our model using kernel PCA is ' + str(davies_bouldin_score(df_ker_PCA, yClustKernPCA)))\n",
        "print('davies bouldin score of our model using T-SNE is ' + str(davies_bouldin_score(tsne_projection, yClustTSNE)))"
      ],
      "metadata": {
        "colab": {
          "base_uri": "https://localhost:8080/"
        },
        "id": "gUn8vlrZ8kf0",
        "outputId": "6e269d64-e08b-4448-d435-bdbd28c57e1d"
      },
      "execution_count": 309,
      "outputs": [
        {
          "output_type": "stream",
          "name": "stdout",
          "text": [
            "davies bouldin score of our model using PCA is 0.8085380279814113\n",
            "davies bouldin score of our model using kernel PCA is 0.3613739474779869\n",
            "davies bouldin score of our model using T-SNE is 0.003437826053211335\n"
          ]
        }
      ]
    },
    {
      "cell_type": "markdown",
      "source": [
        "# Isolation Random Forest"
      ],
      "metadata": {
        "id": "FB0br00UI_Me"
      }
    },
    {
      "cell_type": "code",
      "source": [
        "from sklearn.ensemble import IsolationForest\n",
        "model =  IsolationForest()\n",
        "model.fit(df_pca)\n",
        "df['anomaly25'] = pd.Series(model.predict(df_pca))\n",
        "df['anomaly25'] = df['anomaly25'].map( {1: 0, -1: 1} )\n",
        "print(df['anomaly25'].value_counts())"
      ],
      "metadata": {
        "colab": {
          "base_uri": "https://localhost:8080/"
        },
        "id": "XYrNo3KfLM4b",
        "outputId": "2b266fc6-cae9-4263-986c-864518132a6c"
      },
      "execution_count": 301,
      "outputs": [
        {
          "output_type": "stream",
          "name": "stdout",
          "text": [
            "0    7385\n",
            "1    1565\n",
            "Name: anomaly25, dtype: int64\n"
          ]
        }
      ]
    },
    {
      "cell_type": "code",
      "source": [
        "from sklearn.ensemble import IsolationForest\n",
        "model =  IsolationForest()\n",
        "model.fit(df_ker_PCA)\n",
        "df['anomaly26'] = pd.Series(model.predict(df_ker_PCA))\n",
        "df['anomaly26'] = df['anomaly26'].map( {1: 0, -1: 1} )\n",
        "print(df['anomaly26'].value_counts())"
      ],
      "metadata": {
        "colab": {
          "base_uri": "https://localhost:8080/"
        },
        "id": "mKhsWJNC6CAL",
        "outputId": "a6af7a46-397f-4561-b0ed-16017928806f"
      },
      "execution_count": 302,
      "outputs": [
        {
          "output_type": "stream",
          "name": "stdout",
          "text": [
            "0    6796\n",
            "1    2154\n",
            "Name: anomaly26, dtype: int64\n"
          ]
        }
      ]
    },
    {
      "cell_type": "code",
      "source": [
        "print('Silhoutte score of our model using PCA is ' + str(silhouette_score(df_pca,df['anomaly25'])))\n",
        "print('Silhoutte score of our model using kernel PCA is ' + str(silhouette_score(df_ker_PCA,df['anomaly26'])))\n"
      ],
      "metadata": {
        "colab": {
          "base_uri": "https://localhost:8080/"
        },
        "id": "EHlQcOoK1ful",
        "outputId": "5af2e252-946a-4e53-af2c-86f3d1d33556"
      },
      "execution_count": 303,
      "outputs": [
        {
          "output_type": "stream",
          "name": "stdout",
          "text": [
            "Silhoutte score of our model using PCA is 0.5560385615426093\n",
            "Silhoutte score of our model using kernel PCA is 0.6030736606647377\n"
          ]
        }
      ]
    },
    {
      "cell_type": "code",
      "source": [
        "print('calinski harabasz score of our model using PCA is ' + str(calinski_harabasz_score(df_pca,df['anomaly25'])))\n",
        "print('calinski harabasz score of our model using kernel PCA is ' + str(calinski_harabasz_score(df_ker_PCA, df['anomaly26'])))\n"
      ],
      "metadata": {
        "colab": {
          "base_uri": "https://localhost:8080/"
        },
        "id": "pUPKq7G06rxu",
        "outputId": "a058b235-9c9b-45e7-aed2-4a317e3e96d6"
      },
      "execution_count": 304,
      "outputs": [
        {
          "output_type": "stream",
          "name": "stdout",
          "text": [
            "calinski harabasz score of our model using PCA is 2342.2354998811193\n",
            "calinski harabasz score of our model using kernel PCA is 4157.491594616374\n"
          ]
        }
      ]
    },
    {
      "cell_type": "code",
      "source": [
        "print('davies bouldin score of our model using PCA is ' + str(davies_bouldin_score(df_pca,df['anomaly25'])))\n",
        "print('davies bouldin score of our model using kernel PCA is ' + str(davies_bouldin_score(df_ker_PCA, df['anomaly26'])))\n"
      ],
      "metadata": {
        "colab": {
          "base_uri": "https://localhost:8080/"
        },
        "id": "wLNDG1cN6yJO",
        "outputId": "e4370230-8e94-4111-f02c-2ce41f49a619"
      },
      "execution_count": 310,
      "outputs": [
        {
          "output_type": "stream",
          "name": "stdout",
          "text": [
            "davies bouldin score of our model using PCA is 1.223621432132092\n",
            "davies bouldin score of our model using kernel PCA is 1.1652128004847588\n"
          ]
        }
      ]
    },
    {
      "cell_type": "code",
      "source": [
        ""
      ],
      "metadata": {
        "id": "93RV7NP287tZ"
      },
      "execution_count": null,
      "outputs": []
    }
  ]
}